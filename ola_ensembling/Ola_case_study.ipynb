{
 "cells": [
  {
   "cell_type": "markdown",
   "id": "f5885ebf",
   "metadata": {},
   "source": [
    "## Problem statement\n",
    "\n",
    "Ola wants to predict if an employee will be leaving the company based on the attributes of the employee."
   ]
  },
  {
   "cell_type": "code",
   "execution_count": 1,
   "id": "aef60f8d",
   "metadata": {},
   "outputs": [],
   "source": [
    "#importing the libraries required for analysis\n",
    "import pandas as pd\n",
    "import numpy as np\n",
    "import seaborn as sns\n",
    "from scipy import stats \n",
    "import matplotlib.pyplot as plt\n",
    "import os\n",
    "import warnings\n",
    "warnings.filterwarnings('ignore')"
   ]
  },
  {
   "cell_type": "code",
   "execution_count": 2,
   "id": "d86c0f42",
   "metadata": {},
   "outputs": [],
   "source": [
    "#reading the data into pandas dataframe\n",
    "ola_data_original = pd.read_csv('ola_driver_scaler.csv')"
   ]
  },
  {
   "cell_type": "code",
   "execution_count": 3,
   "id": "6ed15f44",
   "metadata": {},
   "outputs": [
    {
     "data": {
      "text/html": [
       "<div>\n",
       "<style scoped>\n",
       "    .dataframe tbody tr th:only-of-type {\n",
       "        vertical-align: middle;\n",
       "    }\n",
       "\n",
       "    .dataframe tbody tr th {\n",
       "        vertical-align: top;\n",
       "    }\n",
       "\n",
       "    .dataframe thead th {\n",
       "        text-align: right;\n",
       "    }\n",
       "</style>\n",
       "<table border=\"1\" class=\"dataframe\">\n",
       "  <thead>\n",
       "    <tr style=\"text-align: right;\">\n",
       "      <th></th>\n",
       "      <th>Unnamed: 0</th>\n",
       "      <th>MMM-YY</th>\n",
       "      <th>Driver_ID</th>\n",
       "      <th>Age</th>\n",
       "      <th>Gender</th>\n",
       "      <th>City</th>\n",
       "      <th>Education_Level</th>\n",
       "      <th>Income</th>\n",
       "      <th>Dateofjoining</th>\n",
       "      <th>LastWorkingDate</th>\n",
       "      <th>Joining Designation</th>\n",
       "      <th>Grade</th>\n",
       "      <th>Total Business Value</th>\n",
       "      <th>Quarterly Rating</th>\n",
       "    </tr>\n",
       "  </thead>\n",
       "  <tbody>\n",
       "    <tr>\n",
       "      <th>0</th>\n",
       "      <td>0</td>\n",
       "      <td>01/01/19</td>\n",
       "      <td>1</td>\n",
       "      <td>28.0</td>\n",
       "      <td>0.0</td>\n",
       "      <td>C23</td>\n",
       "      <td>2</td>\n",
       "      <td>57387</td>\n",
       "      <td>24/12/18</td>\n",
       "      <td>NaN</td>\n",
       "      <td>1</td>\n",
       "      <td>1</td>\n",
       "      <td>2381060</td>\n",
       "      <td>2</td>\n",
       "    </tr>\n",
       "    <tr>\n",
       "      <th>1</th>\n",
       "      <td>1</td>\n",
       "      <td>02/01/19</td>\n",
       "      <td>1</td>\n",
       "      <td>28.0</td>\n",
       "      <td>0.0</td>\n",
       "      <td>C23</td>\n",
       "      <td>2</td>\n",
       "      <td>57387</td>\n",
       "      <td>24/12/18</td>\n",
       "      <td>NaN</td>\n",
       "      <td>1</td>\n",
       "      <td>1</td>\n",
       "      <td>-665480</td>\n",
       "      <td>2</td>\n",
       "    </tr>\n",
       "    <tr>\n",
       "      <th>2</th>\n",
       "      <td>2</td>\n",
       "      <td>03/01/19</td>\n",
       "      <td>1</td>\n",
       "      <td>28.0</td>\n",
       "      <td>0.0</td>\n",
       "      <td>C23</td>\n",
       "      <td>2</td>\n",
       "      <td>57387</td>\n",
       "      <td>24/12/18</td>\n",
       "      <td>03/11/19</td>\n",
       "      <td>1</td>\n",
       "      <td>1</td>\n",
       "      <td>0</td>\n",
       "      <td>2</td>\n",
       "    </tr>\n",
       "    <tr>\n",
       "      <th>3</th>\n",
       "      <td>3</td>\n",
       "      <td>11/01/20</td>\n",
       "      <td>2</td>\n",
       "      <td>31.0</td>\n",
       "      <td>0.0</td>\n",
       "      <td>C7</td>\n",
       "      <td>2</td>\n",
       "      <td>67016</td>\n",
       "      <td>11/06/20</td>\n",
       "      <td>NaN</td>\n",
       "      <td>2</td>\n",
       "      <td>2</td>\n",
       "      <td>0</td>\n",
       "      <td>1</td>\n",
       "    </tr>\n",
       "    <tr>\n",
       "      <th>4</th>\n",
       "      <td>4</td>\n",
       "      <td>12/01/20</td>\n",
       "      <td>2</td>\n",
       "      <td>31.0</td>\n",
       "      <td>0.0</td>\n",
       "      <td>C7</td>\n",
       "      <td>2</td>\n",
       "      <td>67016</td>\n",
       "      <td>11/06/20</td>\n",
       "      <td>NaN</td>\n",
       "      <td>2</td>\n",
       "      <td>2</td>\n",
       "      <td>0</td>\n",
       "      <td>1</td>\n",
       "    </tr>\n",
       "  </tbody>\n",
       "</table>\n",
       "</div>"
      ],
      "text/plain": [
       "   Unnamed: 0    MMM-YY  Driver_ID   Age  Gender City  Education_Level  \\\n",
       "0           0  01/01/19          1  28.0     0.0  C23                2   \n",
       "1           1  02/01/19          1  28.0     0.0  C23                2   \n",
       "2           2  03/01/19          1  28.0     0.0  C23                2   \n",
       "3           3  11/01/20          2  31.0     0.0   C7                2   \n",
       "4           4  12/01/20          2  31.0     0.0   C7                2   \n",
       "\n",
       "   Income Dateofjoining LastWorkingDate  Joining Designation  Grade  \\\n",
       "0   57387      24/12/18             NaN                    1      1   \n",
       "1   57387      24/12/18             NaN                    1      1   \n",
       "2   57387      24/12/18        03/11/19                    1      1   \n",
       "3   67016      11/06/20             NaN                    2      2   \n",
       "4   67016      11/06/20             NaN                    2      2   \n",
       "\n",
       "   Total Business Value  Quarterly Rating  \n",
       "0               2381060                 2  \n",
       "1               -665480                 2  \n",
       "2                     0                 2  \n",
       "3                     0                 1  \n",
       "4                     0                 1  "
      ]
     },
     "execution_count": 3,
     "metadata": {},
     "output_type": "execute_result"
    }
   ],
   "source": [
    "#fetching the top 5 rows of the dataframe for an overview\n",
    "ola_data_original.head()"
   ]
  },
  {
   "cell_type": "code",
   "execution_count": 4,
   "id": "7855acf9",
   "metadata": {},
   "outputs": [
    {
     "data": {
      "text/plain": [
       "(19104, 14)"
      ]
     },
     "execution_count": 4,
     "metadata": {},
     "output_type": "execute_result"
    }
   ],
   "source": [
    "#To get an idea about the number of rows and columns in the data.\n",
    "ola_data_original.shape"
   ]
  },
  {
   "cell_type": "markdown",
   "id": "b93a0ce4",
   "metadata": {},
   "source": [
    "__There are 14 columns and 19104 rows in the dataset.__"
   ]
  },
  {
   "cell_type": "code",
   "execution_count": 5,
   "id": "cd9da6b5",
   "metadata": {},
   "outputs": [],
   "source": [
    "ola_data_original.drop(ola_data_original.columns[0],axis=1,inplace=True)# dropping the Unnamed column which is unnecesary"
   ]
  },
  {
   "cell_type": "code",
   "execution_count": 6,
   "id": "7e90e106",
   "metadata": {},
   "outputs": [
    {
     "data": {
      "text/html": [
       "<div>\n",
       "<style scoped>\n",
       "    .dataframe tbody tr th:only-of-type {\n",
       "        vertical-align: middle;\n",
       "    }\n",
       "\n",
       "    .dataframe tbody tr th {\n",
       "        vertical-align: top;\n",
       "    }\n",
       "\n",
       "    .dataframe thead th {\n",
       "        text-align: right;\n",
       "    }\n",
       "</style>\n",
       "<table border=\"1\" class=\"dataframe\">\n",
       "  <thead>\n",
       "    <tr style=\"text-align: right;\">\n",
       "      <th></th>\n",
       "      <th>MMM-YY</th>\n",
       "      <th>Driver_ID</th>\n",
       "      <th>Age</th>\n",
       "      <th>Gender</th>\n",
       "      <th>City</th>\n",
       "      <th>Education_Level</th>\n",
       "      <th>Income</th>\n",
       "      <th>Dateofjoining</th>\n",
       "      <th>LastWorkingDate</th>\n",
       "      <th>Joining Designation</th>\n",
       "      <th>Grade</th>\n",
       "      <th>Total Business Value</th>\n",
       "      <th>Quarterly Rating</th>\n",
       "    </tr>\n",
       "  </thead>\n",
       "  <tbody>\n",
       "    <tr>\n",
       "      <th>0</th>\n",
       "      <td>01/01/19</td>\n",
       "      <td>1</td>\n",
       "      <td>28.0</td>\n",
       "      <td>0.0</td>\n",
       "      <td>C23</td>\n",
       "      <td>2</td>\n",
       "      <td>57387</td>\n",
       "      <td>24/12/18</td>\n",
       "      <td>NaN</td>\n",
       "      <td>1</td>\n",
       "      <td>1</td>\n",
       "      <td>2381060</td>\n",
       "      <td>2</td>\n",
       "    </tr>\n",
       "    <tr>\n",
       "      <th>1</th>\n",
       "      <td>02/01/19</td>\n",
       "      <td>1</td>\n",
       "      <td>28.0</td>\n",
       "      <td>0.0</td>\n",
       "      <td>C23</td>\n",
       "      <td>2</td>\n",
       "      <td>57387</td>\n",
       "      <td>24/12/18</td>\n",
       "      <td>NaN</td>\n",
       "      <td>1</td>\n",
       "      <td>1</td>\n",
       "      <td>-665480</td>\n",
       "      <td>2</td>\n",
       "    </tr>\n",
       "    <tr>\n",
       "      <th>2</th>\n",
       "      <td>03/01/19</td>\n",
       "      <td>1</td>\n",
       "      <td>28.0</td>\n",
       "      <td>0.0</td>\n",
       "      <td>C23</td>\n",
       "      <td>2</td>\n",
       "      <td>57387</td>\n",
       "      <td>24/12/18</td>\n",
       "      <td>03/11/19</td>\n",
       "      <td>1</td>\n",
       "      <td>1</td>\n",
       "      <td>0</td>\n",
       "      <td>2</td>\n",
       "    </tr>\n",
       "    <tr>\n",
       "      <th>3</th>\n",
       "      <td>11/01/20</td>\n",
       "      <td>2</td>\n",
       "      <td>31.0</td>\n",
       "      <td>0.0</td>\n",
       "      <td>C7</td>\n",
       "      <td>2</td>\n",
       "      <td>67016</td>\n",
       "      <td>11/06/20</td>\n",
       "      <td>NaN</td>\n",
       "      <td>2</td>\n",
       "      <td>2</td>\n",
       "      <td>0</td>\n",
       "      <td>1</td>\n",
       "    </tr>\n",
       "    <tr>\n",
       "      <th>4</th>\n",
       "      <td>12/01/20</td>\n",
       "      <td>2</td>\n",
       "      <td>31.0</td>\n",
       "      <td>0.0</td>\n",
       "      <td>C7</td>\n",
       "      <td>2</td>\n",
       "      <td>67016</td>\n",
       "      <td>11/06/20</td>\n",
       "      <td>NaN</td>\n",
       "      <td>2</td>\n",
       "      <td>2</td>\n",
       "      <td>0</td>\n",
       "      <td>1</td>\n",
       "    </tr>\n",
       "  </tbody>\n",
       "</table>\n",
       "</div>"
      ],
      "text/plain": [
       "     MMM-YY  Driver_ID   Age  Gender City  Education_Level  Income  \\\n",
       "0  01/01/19          1  28.0     0.0  C23                2   57387   \n",
       "1  02/01/19          1  28.0     0.0  C23                2   57387   \n",
       "2  03/01/19          1  28.0     0.0  C23                2   57387   \n",
       "3  11/01/20          2  31.0     0.0   C7                2   67016   \n",
       "4  12/01/20          2  31.0     0.0   C7                2   67016   \n",
       "\n",
       "  Dateofjoining LastWorkingDate  Joining Designation  Grade  \\\n",
       "0      24/12/18             NaN                    1      1   \n",
       "1      24/12/18             NaN                    1      1   \n",
       "2      24/12/18        03/11/19                    1      1   \n",
       "3      11/06/20             NaN                    2      2   \n",
       "4      11/06/20             NaN                    2      2   \n",
       "\n",
       "   Total Business Value  Quarterly Rating  \n",
       "0               2381060                 2  \n",
       "1               -665480                 2  \n",
       "2                     0                 2  \n",
       "3                     0                 1  \n",
       "4                     0                 1  "
      ]
     },
     "execution_count": 6,
     "metadata": {},
     "output_type": "execute_result"
    }
   ],
   "source": [
    "ola_data_original.head()"
   ]
  },
  {
   "cell_type": "code",
   "execution_count": 7,
   "id": "9547bb93",
   "metadata": {},
   "outputs": [
    {
     "data": {
      "text/html": [
       "<div>\n",
       "<style scoped>\n",
       "    .dataframe tbody tr th:only-of-type {\n",
       "        vertical-align: middle;\n",
       "    }\n",
       "\n",
       "    .dataframe tbody tr th {\n",
       "        vertical-align: top;\n",
       "    }\n",
       "\n",
       "    .dataframe thead th {\n",
       "        text-align: right;\n",
       "    }\n",
       "</style>\n",
       "<table border=\"1\" class=\"dataframe\">\n",
       "  <thead>\n",
       "    <tr style=\"text-align: right;\">\n",
       "      <th></th>\n",
       "      <th>Driver_ID</th>\n",
       "      <th>Age</th>\n",
       "      <th>Gender</th>\n",
       "      <th>Education_Level</th>\n",
       "      <th>Income</th>\n",
       "      <th>Joining Designation</th>\n",
       "      <th>Grade</th>\n",
       "      <th>Total Business Value</th>\n",
       "      <th>Quarterly Rating</th>\n",
       "    </tr>\n",
       "  </thead>\n",
       "  <tbody>\n",
       "    <tr>\n",
       "      <th>count</th>\n",
       "      <td>19104.000000</td>\n",
       "      <td>19043.000000</td>\n",
       "      <td>19052.000000</td>\n",
       "      <td>19104.000000</td>\n",
       "      <td>19104.000000</td>\n",
       "      <td>19104.000000</td>\n",
       "      <td>19104.000000</td>\n",
       "      <td>1.910400e+04</td>\n",
       "      <td>19104.000000</td>\n",
       "    </tr>\n",
       "    <tr>\n",
       "      <th>mean</th>\n",
       "      <td>1415.591133</td>\n",
       "      <td>34.668435</td>\n",
       "      <td>0.418749</td>\n",
       "      <td>1.021671</td>\n",
       "      <td>65652.025126</td>\n",
       "      <td>1.690536</td>\n",
       "      <td>2.252670</td>\n",
       "      <td>5.716621e+05</td>\n",
       "      <td>2.008899</td>\n",
       "    </tr>\n",
       "    <tr>\n",
       "      <th>std</th>\n",
       "      <td>810.705321</td>\n",
       "      <td>6.257912</td>\n",
       "      <td>0.493367</td>\n",
       "      <td>0.800167</td>\n",
       "      <td>30914.515344</td>\n",
       "      <td>0.836984</td>\n",
       "      <td>1.026512</td>\n",
       "      <td>1.128312e+06</td>\n",
       "      <td>1.009832</td>\n",
       "    </tr>\n",
       "    <tr>\n",
       "      <th>min</th>\n",
       "      <td>1.000000</td>\n",
       "      <td>21.000000</td>\n",
       "      <td>0.000000</td>\n",
       "      <td>0.000000</td>\n",
       "      <td>10747.000000</td>\n",
       "      <td>1.000000</td>\n",
       "      <td>1.000000</td>\n",
       "      <td>-6.000000e+06</td>\n",
       "      <td>1.000000</td>\n",
       "    </tr>\n",
       "    <tr>\n",
       "      <th>25%</th>\n",
       "      <td>710.000000</td>\n",
       "      <td>30.000000</td>\n",
       "      <td>0.000000</td>\n",
       "      <td>0.000000</td>\n",
       "      <td>42383.000000</td>\n",
       "      <td>1.000000</td>\n",
       "      <td>1.000000</td>\n",
       "      <td>0.000000e+00</td>\n",
       "      <td>1.000000</td>\n",
       "    </tr>\n",
       "    <tr>\n",
       "      <th>50%</th>\n",
       "      <td>1417.000000</td>\n",
       "      <td>34.000000</td>\n",
       "      <td>0.000000</td>\n",
       "      <td>1.000000</td>\n",
       "      <td>60087.000000</td>\n",
       "      <td>1.000000</td>\n",
       "      <td>2.000000</td>\n",
       "      <td>2.500000e+05</td>\n",
       "      <td>2.000000</td>\n",
       "    </tr>\n",
       "    <tr>\n",
       "      <th>75%</th>\n",
       "      <td>2137.000000</td>\n",
       "      <td>39.000000</td>\n",
       "      <td>1.000000</td>\n",
       "      <td>2.000000</td>\n",
       "      <td>83969.000000</td>\n",
       "      <td>2.000000</td>\n",
       "      <td>3.000000</td>\n",
       "      <td>6.997000e+05</td>\n",
       "      <td>3.000000</td>\n",
       "    </tr>\n",
       "    <tr>\n",
       "      <th>max</th>\n",
       "      <td>2788.000000</td>\n",
       "      <td>58.000000</td>\n",
       "      <td>1.000000</td>\n",
       "      <td>2.000000</td>\n",
       "      <td>188418.000000</td>\n",
       "      <td>5.000000</td>\n",
       "      <td>5.000000</td>\n",
       "      <td>3.374772e+07</td>\n",
       "      <td>4.000000</td>\n",
       "    </tr>\n",
       "  </tbody>\n",
       "</table>\n",
       "</div>"
      ],
      "text/plain": [
       "          Driver_ID           Age        Gender  Education_Level  \\\n",
       "count  19104.000000  19043.000000  19052.000000     19104.000000   \n",
       "mean    1415.591133     34.668435      0.418749         1.021671   \n",
       "std      810.705321      6.257912      0.493367         0.800167   \n",
       "min        1.000000     21.000000      0.000000         0.000000   \n",
       "25%      710.000000     30.000000      0.000000         0.000000   \n",
       "50%     1417.000000     34.000000      0.000000         1.000000   \n",
       "75%     2137.000000     39.000000      1.000000         2.000000   \n",
       "max     2788.000000     58.000000      1.000000         2.000000   \n",
       "\n",
       "              Income  Joining Designation         Grade  Total Business Value  \\\n",
       "count   19104.000000         19104.000000  19104.000000          1.910400e+04   \n",
       "mean    65652.025126             1.690536      2.252670          5.716621e+05   \n",
       "std     30914.515344             0.836984      1.026512          1.128312e+06   \n",
       "min     10747.000000             1.000000      1.000000         -6.000000e+06   \n",
       "25%     42383.000000             1.000000      1.000000          0.000000e+00   \n",
       "50%     60087.000000             1.000000      2.000000          2.500000e+05   \n",
       "75%     83969.000000             2.000000      3.000000          6.997000e+05   \n",
       "max    188418.000000             5.000000      5.000000          3.374772e+07   \n",
       "\n",
       "       Quarterly Rating  \n",
       "count      19104.000000  \n",
       "mean           2.008899  \n",
       "std            1.009832  \n",
       "min            1.000000  \n",
       "25%            1.000000  \n",
       "50%            2.000000  \n",
       "75%            3.000000  \n",
       "max            4.000000  "
      ]
     },
     "execution_count": 7,
     "metadata": {},
     "output_type": "execute_result"
    }
   ],
   "source": [
    "#To get a detailed summary of the numerical data\n",
    "ola_data_original.describe()"
   ]
  },
  {
   "cell_type": "code",
   "execution_count": 8,
   "id": "02af893d",
   "metadata": {},
   "outputs": [
    {
     "data": {
      "text/plain": [
       "MMM-YY                   object\n",
       "Driver_ID                 int64\n",
       "Age                     float64\n",
       "Gender                  float64\n",
       "City                     object\n",
       "Education_Level           int64\n",
       "Income                    int64\n",
       "Dateofjoining            object\n",
       "LastWorkingDate          object\n",
       "Joining Designation       int64\n",
       "Grade                     int64\n",
       "Total Business Value      int64\n",
       "Quarterly Rating          int64\n",
       "dtype: object"
      ]
     },
     "execution_count": 8,
     "metadata": {},
     "output_type": "execute_result"
    }
   ],
   "source": [
    "# To see the datat types of all the columns.\n",
    "ola_data_original.dtypes"
   ]
  },
  {
   "cell_type": "markdown",
   "id": "895c7e0b",
   "metadata": {},
   "source": [
    "__We can see that the dates are of type object, we should convert them to datetime.__"
   ]
  },
  {
   "cell_type": "code",
   "execution_count": 9,
   "id": "981d3030",
   "metadata": {},
   "outputs": [],
   "source": [
    "#converting the date columns datatype to \"datetime\".\n",
    "ola_data_original['MMM-YY'] = pd.to_datetime(ola_data_original['MMM-YY'])\n",
    "ola_data_original['Dateofjoining'] = pd.to_datetime(ola_data_original['Dateofjoining'])\n",
    "ola_data_original['LastWorkingDate'] = pd.to_datetime(ola_data_original['LastWorkingDate'])"
   ]
  },
  {
   "cell_type": "code",
   "execution_count": 10,
   "id": "04b8c5e9",
   "metadata": {},
   "outputs": [
    {
     "data": {
      "text/plain": [
       "MMM-YY                  datetime64[ns]\n",
       "Driver_ID                        int64\n",
       "Age                            float64\n",
       "Gender                         float64\n",
       "City                            object\n",
       "Education_Level                  int64\n",
       "Income                           int64\n",
       "Dateofjoining           datetime64[ns]\n",
       "LastWorkingDate         datetime64[ns]\n",
       "Joining Designation              int64\n",
       "Grade                            int64\n",
       "Total Business Value             int64\n",
       "Quarterly Rating                 int64\n",
       "dtype: object"
      ]
     },
     "execution_count": 10,
     "metadata": {},
     "output_type": "execute_result"
    }
   ],
   "source": [
    "# we can see that the data types of date columns are correct now.\n",
    "ola_data_original.dtypes"
   ]
  },
  {
   "cell_type": "code",
   "execution_count": 11,
   "id": "943124ba",
   "metadata": {},
   "outputs": [
    {
     "name": "stdout",
     "output_type": "stream",
     "text": [
      "<class 'pandas.core.frame.DataFrame'>\n",
      "RangeIndex: 19104 entries, 0 to 19103\n",
      "Data columns (total 13 columns):\n",
      " #   Column                Non-Null Count  Dtype         \n",
      "---  ------                --------------  -----         \n",
      " 0   MMM-YY                19104 non-null  datetime64[ns]\n",
      " 1   Driver_ID             19104 non-null  int64         \n",
      " 2   Age                   19043 non-null  float64       \n",
      " 3   Gender                19052 non-null  float64       \n",
      " 4   City                  19104 non-null  object        \n",
      " 5   Education_Level       19104 non-null  int64         \n",
      " 6   Income                19104 non-null  int64         \n",
      " 7   Dateofjoining         19104 non-null  datetime64[ns]\n",
      " 8   LastWorkingDate       1616 non-null   datetime64[ns]\n",
      " 9   Joining Designation   19104 non-null  int64         \n",
      " 10  Grade                 19104 non-null  int64         \n",
      " 11  Total Business Value  19104 non-null  int64         \n",
      " 12  Quarterly Rating      19104 non-null  int64         \n",
      "dtypes: datetime64[ns](3), float64(2), int64(7), object(1)\n",
      "memory usage: 1.9+ MB\n"
     ]
    }
   ],
   "source": [
    "#The info method gives us the information about the dataset, which can help us find out the types,missing values if any.\n",
    "ola_data_original.info()"
   ]
  },
  {
   "cell_type": "code",
   "execution_count": 12,
   "id": "3291e564",
   "metadata": {},
   "outputs": [],
   "source": [
    "# creating a dataframe that will have the number of missing values and percent of missing values of each feature.This will increase the readability.\n",
    "ola_missingdata = pd.DataFrame(columns=['Feature','Numberofmissingvalues','Percent'])\n",
    "ola_missingdata['Feature'] = ola_data_original.columns\n",
    "ola_missingdata['Numberofmissingvalues'] = [ola_data_original[i].isna().sum() for i in ola_data_original.columns.values]\n",
    "ola_missingdata['Percent'] = [(ola_data_original[i].isna().sum()/len(ola_data_original))*100 for i in ola_data_original.columns.values]"
   ]
  },
  {
   "cell_type": "code",
   "execution_count": 13,
   "id": "42b0c524",
   "metadata": {},
   "outputs": [
    {
     "data": {
      "text/html": [
       "<div>\n",
       "<style scoped>\n",
       "    .dataframe tbody tr th:only-of-type {\n",
       "        vertical-align: middle;\n",
       "    }\n",
       "\n",
       "    .dataframe tbody tr th {\n",
       "        vertical-align: top;\n",
       "    }\n",
       "\n",
       "    .dataframe thead th {\n",
       "        text-align: right;\n",
       "    }\n",
       "</style>\n",
       "<table border=\"1\" class=\"dataframe\">\n",
       "  <thead>\n",
       "    <tr style=\"text-align: right;\">\n",
       "      <th></th>\n",
       "      <th>Feature</th>\n",
       "      <th>Numberofmissingvalues</th>\n",
       "      <th>Percent</th>\n",
       "    </tr>\n",
       "  </thead>\n",
       "  <tbody>\n",
       "    <tr>\n",
       "      <th>0</th>\n",
       "      <td>MMM-YY</td>\n",
       "      <td>0</td>\n",
       "      <td>0.000000</td>\n",
       "    </tr>\n",
       "    <tr>\n",
       "      <th>1</th>\n",
       "      <td>Driver_ID</td>\n",
       "      <td>0</td>\n",
       "      <td>0.000000</td>\n",
       "    </tr>\n",
       "    <tr>\n",
       "      <th>2</th>\n",
       "      <td>Age</td>\n",
       "      <td>61</td>\n",
       "      <td>0.319305</td>\n",
       "    </tr>\n",
       "    <tr>\n",
       "      <th>3</th>\n",
       "      <td>Gender</td>\n",
       "      <td>52</td>\n",
       "      <td>0.272194</td>\n",
       "    </tr>\n",
       "    <tr>\n",
       "      <th>4</th>\n",
       "      <td>City</td>\n",
       "      <td>0</td>\n",
       "      <td>0.000000</td>\n",
       "    </tr>\n",
       "    <tr>\n",
       "      <th>5</th>\n",
       "      <td>Education_Level</td>\n",
       "      <td>0</td>\n",
       "      <td>0.000000</td>\n",
       "    </tr>\n",
       "    <tr>\n",
       "      <th>6</th>\n",
       "      <td>Income</td>\n",
       "      <td>0</td>\n",
       "      <td>0.000000</td>\n",
       "    </tr>\n",
       "    <tr>\n",
       "      <th>7</th>\n",
       "      <td>Dateofjoining</td>\n",
       "      <td>0</td>\n",
       "      <td>0.000000</td>\n",
       "    </tr>\n",
       "    <tr>\n",
       "      <th>8</th>\n",
       "      <td>LastWorkingDate</td>\n",
       "      <td>17488</td>\n",
       "      <td>91.541039</td>\n",
       "    </tr>\n",
       "    <tr>\n",
       "      <th>9</th>\n",
       "      <td>Joining Designation</td>\n",
       "      <td>0</td>\n",
       "      <td>0.000000</td>\n",
       "    </tr>\n",
       "    <tr>\n",
       "      <th>10</th>\n",
       "      <td>Grade</td>\n",
       "      <td>0</td>\n",
       "      <td>0.000000</td>\n",
       "    </tr>\n",
       "    <tr>\n",
       "      <th>11</th>\n",
       "      <td>Total Business Value</td>\n",
       "      <td>0</td>\n",
       "      <td>0.000000</td>\n",
       "    </tr>\n",
       "    <tr>\n",
       "      <th>12</th>\n",
       "      <td>Quarterly Rating</td>\n",
       "      <td>0</td>\n",
       "      <td>0.000000</td>\n",
       "    </tr>\n",
       "  </tbody>\n",
       "</table>\n",
       "</div>"
      ],
      "text/plain": [
       "                 Feature  Numberofmissingvalues    Percent\n",
       "0                 MMM-YY                      0   0.000000\n",
       "1              Driver_ID                      0   0.000000\n",
       "2                    Age                     61   0.319305\n",
       "3                 Gender                     52   0.272194\n",
       "4                   City                      0   0.000000\n",
       "5        Education_Level                      0   0.000000\n",
       "6                 Income                      0   0.000000\n",
       "7          Dateofjoining                      0   0.000000\n",
       "8        LastWorkingDate                  17488  91.541039\n",
       "9    Joining Designation                      0   0.000000\n",
       "10                 Grade                      0   0.000000\n",
       "11  Total Business Value                      0   0.000000\n",
       "12      Quarterly Rating                      0   0.000000"
      ]
     },
     "execution_count": 13,
     "metadata": {},
     "output_type": "execute_result"
    }
   ],
   "source": [
    "ola_missingdata"
   ]
  },
  {
   "cell_type": "markdown",
   "id": "a0c933bf",
   "metadata": {},
   "source": [
    "__We see that the three columns Age,Gender have missing values. The percentage of the missing values is low, 0.31 for age and 0.27 for Gender. The Lastworking date missing values are not considered as missing values , they will be handled when we group the driver ids.__"
   ]
  },
  {
   "cell_type": "code",
   "execution_count": 14,
   "id": "16c8fbf6",
   "metadata": {},
   "outputs": [
    {
     "data": {
      "text/html": [
       "<div>\n",
       "<style scoped>\n",
       "    .dataframe tbody tr th:only-of-type {\n",
       "        vertical-align: middle;\n",
       "    }\n",
       "\n",
       "    .dataframe tbody tr th {\n",
       "        vertical-align: top;\n",
       "    }\n",
       "\n",
       "    .dataframe thead th {\n",
       "        text-align: right;\n",
       "    }\n",
       "</style>\n",
       "<table border=\"1\" class=\"dataframe\">\n",
       "  <thead>\n",
       "    <tr style=\"text-align: right;\">\n",
       "      <th></th>\n",
       "      <th>MMM-YY</th>\n",
       "      <th>Driver_ID</th>\n",
       "      <th>Age</th>\n",
       "      <th>Gender</th>\n",
       "      <th>City</th>\n",
       "      <th>Education_Level</th>\n",
       "      <th>Income</th>\n",
       "      <th>Dateofjoining</th>\n",
       "      <th>LastWorkingDate</th>\n",
       "      <th>Joining Designation</th>\n",
       "      <th>Grade</th>\n",
       "      <th>Total Business Value</th>\n",
       "      <th>Quarterly Rating</th>\n",
       "    </tr>\n",
       "  </thead>\n",
       "  <tbody>\n",
       "    <tr>\n",
       "      <th>72</th>\n",
       "      <td>2020-02-01</td>\n",
       "      <td>20</td>\n",
       "      <td>NaN</td>\n",
       "      <td>1.0</td>\n",
       "      <td>C19</td>\n",
       "      <td>0</td>\n",
       "      <td>40342</td>\n",
       "      <td>2019-10-25</td>\n",
       "      <td>NaT</td>\n",
       "      <td>3</td>\n",
       "      <td>3</td>\n",
       "      <td>0</td>\n",
       "      <td>1</td>\n",
       "    </tr>\n",
       "    <tr>\n",
       "      <th>97</th>\n",
       "      <td>2019-10-01</td>\n",
       "      <td>22</td>\n",
       "      <td>NaN</td>\n",
       "      <td>0.0</td>\n",
       "      <td>C10</td>\n",
       "      <td>2</td>\n",
       "      <td>31224</td>\n",
       "      <td>2018-05-25</td>\n",
       "      <td>NaT</td>\n",
       "      <td>1</td>\n",
       "      <td>1</td>\n",
       "      <td>200000</td>\n",
       "      <td>3</td>\n",
       "    </tr>\n",
       "    <tr>\n",
       "      <th>110</th>\n",
       "      <td>2019-07-01</td>\n",
       "      <td>24</td>\n",
       "      <td>NaN</td>\n",
       "      <td>0.0</td>\n",
       "      <td>C24</td>\n",
       "      <td>2</td>\n",
       "      <td>76308</td>\n",
       "      <td>2018-05-25</td>\n",
       "      <td>NaT</td>\n",
       "      <td>1</td>\n",
       "      <td>2</td>\n",
       "      <td>203240</td>\n",
       "      <td>3</td>\n",
       "    </tr>\n",
       "    <tr>\n",
       "      <th>212</th>\n",
       "      <td>2019-11-01</td>\n",
       "      <td>40</td>\n",
       "      <td>NaN</td>\n",
       "      <td>0.0</td>\n",
       "      <td>C15</td>\n",
       "      <td>0</td>\n",
       "      <td>59182</td>\n",
       "      <td>2019-11-08</td>\n",
       "      <td>NaT</td>\n",
       "      <td>2</td>\n",
       "      <td>2</td>\n",
       "      <td>0</td>\n",
       "      <td>1</td>\n",
       "    </tr>\n",
       "    <tr>\n",
       "      <th>261</th>\n",
       "      <td>2019-05-01</td>\n",
       "      <td>49</td>\n",
       "      <td>NaN</td>\n",
       "      <td>0.0</td>\n",
       "      <td>C20</td>\n",
       "      <td>0</td>\n",
       "      <td>53039</td>\n",
       "      <td>2018-05-25</td>\n",
       "      <td>NaT</td>\n",
       "      <td>1</td>\n",
       "      <td>2</td>\n",
       "      <td>124190</td>\n",
       "      <td>1</td>\n",
       "    </tr>\n",
       "    <tr>\n",
       "      <th>...</th>\n",
       "      <td>...</td>\n",
       "      <td>...</td>\n",
       "      <td>...</td>\n",
       "      <td>...</td>\n",
       "      <td>...</td>\n",
       "      <td>...</td>\n",
       "      <td>...</td>\n",
       "      <td>...</td>\n",
       "      <td>...</td>\n",
       "      <td>...</td>\n",
       "      <td>...</td>\n",
       "      <td>...</td>\n",
       "      <td>...</td>\n",
       "    </tr>\n",
       "    <tr>\n",
       "      <th>18395</th>\n",
       "      <td>2020-05-01</td>\n",
       "      <td>2690</td>\n",
       "      <td>NaN</td>\n",
       "      <td>0.0</td>\n",
       "      <td>C11</td>\n",
       "      <td>2</td>\n",
       "      <td>77662</td>\n",
       "      <td>2018-07-17</td>\n",
       "      <td>NaT</td>\n",
       "      <td>1</td>\n",
       "      <td>2</td>\n",
       "      <td>692600</td>\n",
       "      <td>4</td>\n",
       "    </tr>\n",
       "    <tr>\n",
       "      <th>18722</th>\n",
       "      <td>2020-08-01</td>\n",
       "      <td>2730</td>\n",
       "      <td>NaN</td>\n",
       "      <td>1.0</td>\n",
       "      <td>C16</td>\n",
       "      <td>2</td>\n",
       "      <td>69924</td>\n",
       "      <td>2019-07-08</td>\n",
       "      <td>NaT</td>\n",
       "      <td>2</td>\n",
       "      <td>2</td>\n",
       "      <td>161860</td>\n",
       "      <td>2</td>\n",
       "    </tr>\n",
       "    <tr>\n",
       "      <th>18780</th>\n",
       "      <td>2019-03-01</td>\n",
       "      <td>2738</td>\n",
       "      <td>NaN</td>\n",
       "      <td>0.0</td>\n",
       "      <td>C17</td>\n",
       "      <td>0</td>\n",
       "      <td>23068</td>\n",
       "      <td>2018-09-08</td>\n",
       "      <td>NaT</td>\n",
       "      <td>1</td>\n",
       "      <td>1</td>\n",
       "      <td>639780</td>\n",
       "      <td>3</td>\n",
       "    </tr>\n",
       "    <tr>\n",
       "      <th>18843</th>\n",
       "      <td>2019-01-01</td>\n",
       "      <td>2751</td>\n",
       "      <td>NaN</td>\n",
       "      <td>0.0</td>\n",
       "      <td>C17</td>\n",
       "      <td>2</td>\n",
       "      <td>53115</td>\n",
       "      <td>2015-11-05</td>\n",
       "      <td>NaT</td>\n",
       "      <td>1</td>\n",
       "      <td>1</td>\n",
       "      <td>506550</td>\n",
       "      <td>3</td>\n",
       "    </tr>\n",
       "    <tr>\n",
       "      <th>19024</th>\n",
       "      <td>2019-02-01</td>\n",
       "      <td>2774</td>\n",
       "      <td>NaN</td>\n",
       "      <td>0.0</td>\n",
       "      <td>C15</td>\n",
       "      <td>1</td>\n",
       "      <td>42313</td>\n",
       "      <td>2018-07-21</td>\n",
       "      <td>NaT</td>\n",
       "      <td>1</td>\n",
       "      <td>1</td>\n",
       "      <td>1141280</td>\n",
       "      <td>4</td>\n",
       "    </tr>\n",
       "  </tbody>\n",
       "</table>\n",
       "<p>61 rows × 13 columns</p>\n",
       "</div>"
      ],
      "text/plain": [
       "          MMM-YY  Driver_ID  Age  Gender City  Education_Level  Income  \\\n",
       "72    2020-02-01         20  NaN     1.0  C19                0   40342   \n",
       "97    2019-10-01         22  NaN     0.0  C10                2   31224   \n",
       "110   2019-07-01         24  NaN     0.0  C24                2   76308   \n",
       "212   2019-11-01         40  NaN     0.0  C15                0   59182   \n",
       "261   2019-05-01         49  NaN     0.0  C20                0   53039   \n",
       "...          ...        ...  ...     ...  ...              ...     ...   \n",
       "18395 2020-05-01       2690  NaN     0.0  C11                2   77662   \n",
       "18722 2020-08-01       2730  NaN     1.0  C16                2   69924   \n",
       "18780 2019-03-01       2738  NaN     0.0  C17                0   23068   \n",
       "18843 2019-01-01       2751  NaN     0.0  C17                2   53115   \n",
       "19024 2019-02-01       2774  NaN     0.0  C15                1   42313   \n",
       "\n",
       "      Dateofjoining LastWorkingDate  Joining Designation  Grade  \\\n",
       "72       2019-10-25             NaT                    3      3   \n",
       "97       2018-05-25             NaT                    1      1   \n",
       "110      2018-05-25             NaT                    1      2   \n",
       "212      2019-11-08             NaT                    2      2   \n",
       "261      2018-05-25             NaT                    1      2   \n",
       "...             ...             ...                  ...    ...   \n",
       "18395    2018-07-17             NaT                    1      2   \n",
       "18722    2019-07-08             NaT                    2      2   \n",
       "18780    2018-09-08             NaT                    1      1   \n",
       "18843    2015-11-05             NaT                    1      1   \n",
       "19024    2018-07-21             NaT                    1      1   \n",
       "\n",
       "       Total Business Value  Quarterly Rating  \n",
       "72                        0                 1  \n",
       "97                   200000                 3  \n",
       "110                  203240                 3  \n",
       "212                       0                 1  \n",
       "261                  124190                 1  \n",
       "...                     ...               ...  \n",
       "18395                692600                 4  \n",
       "18722                161860                 2  \n",
       "18780                639780                 3  \n",
       "18843                506550                 3  \n",
       "19024               1141280                 4  \n",
       "\n",
       "[61 rows x 13 columns]"
      ]
     },
     "execution_count": 14,
     "metadata": {},
     "output_type": "execute_result"
    }
   ],
   "source": [
    "ola_data_original[ola_data_original['Age'].isna()]"
   ]
  },
  {
   "cell_type": "code",
   "execution_count": 15,
   "id": "251c53dd",
   "metadata": {},
   "outputs": [
    {
     "data": {
      "text/html": [
       "<div>\n",
       "<style scoped>\n",
       "    .dataframe tbody tr th:only-of-type {\n",
       "        vertical-align: middle;\n",
       "    }\n",
       "\n",
       "    .dataframe tbody tr th {\n",
       "        vertical-align: top;\n",
       "    }\n",
       "\n",
       "    .dataframe thead th {\n",
       "        text-align: right;\n",
       "    }\n",
       "</style>\n",
       "<table border=\"1\" class=\"dataframe\">\n",
       "  <thead>\n",
       "    <tr style=\"text-align: right;\">\n",
       "      <th></th>\n",
       "      <th>MMM-YY</th>\n",
       "      <th>Driver_ID</th>\n",
       "      <th>Age</th>\n",
       "      <th>Gender</th>\n",
       "      <th>City</th>\n",
       "      <th>Education_Level</th>\n",
       "      <th>Income</th>\n",
       "      <th>Dateofjoining</th>\n",
       "      <th>LastWorkingDate</th>\n",
       "      <th>Joining Designation</th>\n",
       "      <th>Grade</th>\n",
       "      <th>Total Business Value</th>\n",
       "      <th>Quarterly Rating</th>\n",
       "    </tr>\n",
       "  </thead>\n",
       "  <tbody>\n",
       "    <tr>\n",
       "      <th>68</th>\n",
       "      <td>2019-10-01</td>\n",
       "      <td>20</td>\n",
       "      <td>26.0</td>\n",
       "      <td>1.0</td>\n",
       "      <td>C19</td>\n",
       "      <td>0</td>\n",
       "      <td>40342</td>\n",
       "      <td>2019-10-25</td>\n",
       "      <td>NaT</td>\n",
       "      <td>3</td>\n",
       "      <td>3</td>\n",
       "      <td>0</td>\n",
       "      <td>1</td>\n",
       "    </tr>\n",
       "    <tr>\n",
       "      <th>69</th>\n",
       "      <td>2019-11-01</td>\n",
       "      <td>20</td>\n",
       "      <td>26.0</td>\n",
       "      <td>1.0</td>\n",
       "      <td>C19</td>\n",
       "      <td>0</td>\n",
       "      <td>40342</td>\n",
       "      <td>2019-10-25</td>\n",
       "      <td>NaT</td>\n",
       "      <td>3</td>\n",
       "      <td>3</td>\n",
       "      <td>0</td>\n",
       "      <td>1</td>\n",
       "    </tr>\n",
       "    <tr>\n",
       "      <th>70</th>\n",
       "      <td>2019-12-01</td>\n",
       "      <td>20</td>\n",
       "      <td>26.0</td>\n",
       "      <td>1.0</td>\n",
       "      <td>C19</td>\n",
       "      <td>0</td>\n",
       "      <td>40342</td>\n",
       "      <td>2019-10-25</td>\n",
       "      <td>NaT</td>\n",
       "      <td>3</td>\n",
       "      <td>3</td>\n",
       "      <td>0</td>\n",
       "      <td>1</td>\n",
       "    </tr>\n",
       "    <tr>\n",
       "      <th>71</th>\n",
       "      <td>2020-01-01</td>\n",
       "      <td>20</td>\n",
       "      <td>26.0</td>\n",
       "      <td>1.0</td>\n",
       "      <td>C19</td>\n",
       "      <td>0</td>\n",
       "      <td>40342</td>\n",
       "      <td>2019-10-25</td>\n",
       "      <td>NaT</td>\n",
       "      <td>3</td>\n",
       "      <td>3</td>\n",
       "      <td>0</td>\n",
       "      <td>1</td>\n",
       "    </tr>\n",
       "    <tr>\n",
       "      <th>72</th>\n",
       "      <td>2020-02-01</td>\n",
       "      <td>20</td>\n",
       "      <td>NaN</td>\n",
       "      <td>1.0</td>\n",
       "      <td>C19</td>\n",
       "      <td>0</td>\n",
       "      <td>40342</td>\n",
       "      <td>2019-10-25</td>\n",
       "      <td>NaT</td>\n",
       "      <td>3</td>\n",
       "      <td>3</td>\n",
       "      <td>0</td>\n",
       "      <td>1</td>\n",
       "    </tr>\n",
       "    <tr>\n",
       "      <th>73</th>\n",
       "      <td>2020-03-01</td>\n",
       "      <td>20</td>\n",
       "      <td>26.0</td>\n",
       "      <td>1.0</td>\n",
       "      <td>C19</td>\n",
       "      <td>0</td>\n",
       "      <td>40342</td>\n",
       "      <td>2019-10-25</td>\n",
       "      <td>2020-03-01</td>\n",
       "      <td>3</td>\n",
       "      <td>3</td>\n",
       "      <td>0</td>\n",
       "      <td>1</td>\n",
       "    </tr>\n",
       "  </tbody>\n",
       "</table>\n",
       "</div>"
      ],
      "text/plain": [
       "       MMM-YY  Driver_ID   Age  Gender City  Education_Level  Income  \\\n",
       "68 2019-10-01         20  26.0     1.0  C19                0   40342   \n",
       "69 2019-11-01         20  26.0     1.0  C19                0   40342   \n",
       "70 2019-12-01         20  26.0     1.0  C19                0   40342   \n",
       "71 2020-01-01         20  26.0     1.0  C19                0   40342   \n",
       "72 2020-02-01         20   NaN     1.0  C19                0   40342   \n",
       "73 2020-03-01         20  26.0     1.0  C19                0   40342   \n",
       "\n",
       "   Dateofjoining LastWorkingDate  Joining Designation  Grade  \\\n",
       "68    2019-10-25             NaT                    3      3   \n",
       "69    2019-10-25             NaT                    3      3   \n",
       "70    2019-10-25             NaT                    3      3   \n",
       "71    2019-10-25             NaT                    3      3   \n",
       "72    2019-10-25             NaT                    3      3   \n",
       "73    2019-10-25      2020-03-01                    3      3   \n",
       "\n",
       "    Total Business Value  Quarterly Rating  \n",
       "68                     0                 1  \n",
       "69                     0                 1  \n",
       "70                     0                 1  \n",
       "71                     0                 1  \n",
       "72                     0                 1  \n",
       "73                     0                 1  "
      ]
     },
     "execution_count": 15,
     "metadata": {},
     "output_type": "execute_result"
    }
   ],
   "source": [
    "ola_data_original[ola_data_original['Driver_ID']==20]"
   ]
  },
  {
   "cell_type": "code",
   "execution_count": 16,
   "id": "4be51dae",
   "metadata": {},
   "outputs": [],
   "source": [
    "# extracting all the numeric columns to prepare the data for knn imputation as we see missing values in the data.\n",
    "ola_data_numeric = ola_data_original.select_dtypes(include=np.number)\n",
    "ola_data_numeric = ola_data_numeric[['Driver_ID','Age','Gender','Education_Level','Income','Joining Designation','Grade']]"
   ]
  },
  {
   "cell_type": "code",
   "execution_count": 17,
   "id": "8e09de85",
   "metadata": {},
   "outputs": [],
   "source": [
    "#importing knnimputer and transforming the data by imputing missing values using the knnimputer.\n",
    "from sklearn.impute import KNNImputer\n",
    "ola_data_transform = pd.DataFrame(KNNImputer(n_neighbors = 2).fit_transform(ola_data_numeric), columns = ola_data_numeric.columns)"
   ]
  },
  {
   "cell_type": "code",
   "execution_count": 18,
   "id": "e182fa9d",
   "metadata": {},
   "outputs": [],
   "source": [
    "ola_data_original['Age'] = ola_data_transform['Age']"
   ]
  },
  {
   "cell_type": "code",
   "execution_count": 19,
   "id": "e9135a41",
   "metadata": {},
   "outputs": [],
   "source": [
    "ola_data_original['Gender']=ola_data_transform['Gender']"
   ]
  },
  {
   "cell_type": "code",
   "execution_count": 20,
   "id": "7ef96932",
   "metadata": {},
   "outputs": [
    {
     "data": {
      "text/html": [
       "<div>\n",
       "<style scoped>\n",
       "    .dataframe tbody tr th:only-of-type {\n",
       "        vertical-align: middle;\n",
       "    }\n",
       "\n",
       "    .dataframe tbody tr th {\n",
       "        vertical-align: top;\n",
       "    }\n",
       "\n",
       "    .dataframe thead th {\n",
       "        text-align: right;\n",
       "    }\n",
       "</style>\n",
       "<table border=\"1\" class=\"dataframe\">\n",
       "  <thead>\n",
       "    <tr style=\"text-align: right;\">\n",
       "      <th></th>\n",
       "      <th>MMM-YY</th>\n",
       "      <th>Driver_ID</th>\n",
       "      <th>Age</th>\n",
       "      <th>Gender</th>\n",
       "      <th>City</th>\n",
       "      <th>Education_Level</th>\n",
       "      <th>Income</th>\n",
       "      <th>Dateofjoining</th>\n",
       "      <th>LastWorkingDate</th>\n",
       "      <th>Joining Designation</th>\n",
       "      <th>Grade</th>\n",
       "      <th>Total Business Value</th>\n",
       "      <th>Quarterly Rating</th>\n",
       "    </tr>\n",
       "  </thead>\n",
       "  <tbody>\n",
       "    <tr>\n",
       "      <th>0</th>\n",
       "      <td>2019-01-01</td>\n",
       "      <td>1</td>\n",
       "      <td>28.0</td>\n",
       "      <td>0.0</td>\n",
       "      <td>C23</td>\n",
       "      <td>2</td>\n",
       "      <td>57387</td>\n",
       "      <td>2018-12-24</td>\n",
       "      <td>NaT</td>\n",
       "      <td>1</td>\n",
       "      <td>1</td>\n",
       "      <td>2381060</td>\n",
       "      <td>2</td>\n",
       "    </tr>\n",
       "    <tr>\n",
       "      <th>1</th>\n",
       "      <td>2019-02-01</td>\n",
       "      <td>1</td>\n",
       "      <td>28.0</td>\n",
       "      <td>0.0</td>\n",
       "      <td>C23</td>\n",
       "      <td>2</td>\n",
       "      <td>57387</td>\n",
       "      <td>2018-12-24</td>\n",
       "      <td>NaT</td>\n",
       "      <td>1</td>\n",
       "      <td>1</td>\n",
       "      <td>-665480</td>\n",
       "      <td>2</td>\n",
       "    </tr>\n",
       "    <tr>\n",
       "      <th>2</th>\n",
       "      <td>2019-03-01</td>\n",
       "      <td>1</td>\n",
       "      <td>28.0</td>\n",
       "      <td>0.0</td>\n",
       "      <td>C23</td>\n",
       "      <td>2</td>\n",
       "      <td>57387</td>\n",
       "      <td>2018-12-24</td>\n",
       "      <td>2019-03-11</td>\n",
       "      <td>1</td>\n",
       "      <td>1</td>\n",
       "      <td>0</td>\n",
       "      <td>2</td>\n",
       "    </tr>\n",
       "    <tr>\n",
       "      <th>3</th>\n",
       "      <td>2020-11-01</td>\n",
       "      <td>2</td>\n",
       "      <td>31.0</td>\n",
       "      <td>0.0</td>\n",
       "      <td>C7</td>\n",
       "      <td>2</td>\n",
       "      <td>67016</td>\n",
       "      <td>2020-11-06</td>\n",
       "      <td>NaT</td>\n",
       "      <td>2</td>\n",
       "      <td>2</td>\n",
       "      <td>0</td>\n",
       "      <td>1</td>\n",
       "    </tr>\n",
       "    <tr>\n",
       "      <th>4</th>\n",
       "      <td>2020-12-01</td>\n",
       "      <td>2</td>\n",
       "      <td>31.0</td>\n",
       "      <td>0.0</td>\n",
       "      <td>C7</td>\n",
       "      <td>2</td>\n",
       "      <td>67016</td>\n",
       "      <td>2020-11-06</td>\n",
       "      <td>NaT</td>\n",
       "      <td>2</td>\n",
       "      <td>2</td>\n",
       "      <td>0</td>\n",
       "      <td>1</td>\n",
       "    </tr>\n",
       "    <tr>\n",
       "      <th>...</th>\n",
       "      <td>...</td>\n",
       "      <td>...</td>\n",
       "      <td>...</td>\n",
       "      <td>...</td>\n",
       "      <td>...</td>\n",
       "      <td>...</td>\n",
       "      <td>...</td>\n",
       "      <td>...</td>\n",
       "      <td>...</td>\n",
       "      <td>...</td>\n",
       "      <td>...</td>\n",
       "      <td>...</td>\n",
       "      <td>...</td>\n",
       "    </tr>\n",
       "    <tr>\n",
       "      <th>19099</th>\n",
       "      <td>2020-08-01</td>\n",
       "      <td>2788</td>\n",
       "      <td>30.0</td>\n",
       "      <td>0.0</td>\n",
       "      <td>C27</td>\n",
       "      <td>2</td>\n",
       "      <td>70254</td>\n",
       "      <td>2020-06-08</td>\n",
       "      <td>NaT</td>\n",
       "      <td>2</td>\n",
       "      <td>2</td>\n",
       "      <td>740280</td>\n",
       "      <td>3</td>\n",
       "    </tr>\n",
       "    <tr>\n",
       "      <th>19100</th>\n",
       "      <td>2020-09-01</td>\n",
       "      <td>2788</td>\n",
       "      <td>30.0</td>\n",
       "      <td>0.0</td>\n",
       "      <td>C27</td>\n",
       "      <td>2</td>\n",
       "      <td>70254</td>\n",
       "      <td>2020-06-08</td>\n",
       "      <td>NaT</td>\n",
       "      <td>2</td>\n",
       "      <td>2</td>\n",
       "      <td>448370</td>\n",
       "      <td>3</td>\n",
       "    </tr>\n",
       "    <tr>\n",
       "      <th>19101</th>\n",
       "      <td>2020-10-01</td>\n",
       "      <td>2788</td>\n",
       "      <td>30.0</td>\n",
       "      <td>0.0</td>\n",
       "      <td>C27</td>\n",
       "      <td>2</td>\n",
       "      <td>70254</td>\n",
       "      <td>2020-06-08</td>\n",
       "      <td>NaT</td>\n",
       "      <td>2</td>\n",
       "      <td>2</td>\n",
       "      <td>0</td>\n",
       "      <td>2</td>\n",
       "    </tr>\n",
       "    <tr>\n",
       "      <th>19102</th>\n",
       "      <td>2020-11-01</td>\n",
       "      <td>2788</td>\n",
       "      <td>30.0</td>\n",
       "      <td>0.0</td>\n",
       "      <td>C27</td>\n",
       "      <td>2</td>\n",
       "      <td>70254</td>\n",
       "      <td>2020-06-08</td>\n",
       "      <td>NaT</td>\n",
       "      <td>2</td>\n",
       "      <td>2</td>\n",
       "      <td>200420</td>\n",
       "      <td>2</td>\n",
       "    </tr>\n",
       "    <tr>\n",
       "      <th>19103</th>\n",
       "      <td>2020-12-01</td>\n",
       "      <td>2788</td>\n",
       "      <td>30.0</td>\n",
       "      <td>0.0</td>\n",
       "      <td>C27</td>\n",
       "      <td>2</td>\n",
       "      <td>70254</td>\n",
       "      <td>2020-06-08</td>\n",
       "      <td>NaT</td>\n",
       "      <td>2</td>\n",
       "      <td>2</td>\n",
       "      <td>411480</td>\n",
       "      <td>2</td>\n",
       "    </tr>\n",
       "  </tbody>\n",
       "</table>\n",
       "<p>19104 rows × 13 columns</p>\n",
       "</div>"
      ],
      "text/plain": [
       "          MMM-YY  Driver_ID   Age  Gender City  Education_Level  Income  \\\n",
       "0     2019-01-01          1  28.0     0.0  C23                2   57387   \n",
       "1     2019-02-01          1  28.0     0.0  C23                2   57387   \n",
       "2     2019-03-01          1  28.0     0.0  C23                2   57387   \n",
       "3     2020-11-01          2  31.0     0.0   C7                2   67016   \n",
       "4     2020-12-01          2  31.0     0.0   C7                2   67016   \n",
       "...          ...        ...   ...     ...  ...              ...     ...   \n",
       "19099 2020-08-01       2788  30.0     0.0  C27                2   70254   \n",
       "19100 2020-09-01       2788  30.0     0.0  C27                2   70254   \n",
       "19101 2020-10-01       2788  30.0     0.0  C27                2   70254   \n",
       "19102 2020-11-01       2788  30.0     0.0  C27                2   70254   \n",
       "19103 2020-12-01       2788  30.0     0.0  C27                2   70254   \n",
       "\n",
       "      Dateofjoining LastWorkingDate  Joining Designation  Grade  \\\n",
       "0        2018-12-24             NaT                    1      1   \n",
       "1        2018-12-24             NaT                    1      1   \n",
       "2        2018-12-24      2019-03-11                    1      1   \n",
       "3        2020-11-06             NaT                    2      2   \n",
       "4        2020-11-06             NaT                    2      2   \n",
       "...             ...             ...                  ...    ...   \n",
       "19099    2020-06-08             NaT                    2      2   \n",
       "19100    2020-06-08             NaT                    2      2   \n",
       "19101    2020-06-08             NaT                    2      2   \n",
       "19102    2020-06-08             NaT                    2      2   \n",
       "19103    2020-06-08             NaT                    2      2   \n",
       "\n",
       "       Total Business Value  Quarterly Rating  \n",
       "0                   2381060                 2  \n",
       "1                   -665480                 2  \n",
       "2                         0                 2  \n",
       "3                         0                 1  \n",
       "4                         0                 1  \n",
       "...                     ...               ...  \n",
       "19099                740280                 3  \n",
       "19100                448370                 3  \n",
       "19101                     0                 2  \n",
       "19102                200420                 2  \n",
       "19103                411480                 2  \n",
       "\n",
       "[19104 rows x 13 columns]"
      ]
     },
     "execution_count": 20,
     "metadata": {},
     "output_type": "execute_result"
    }
   ],
   "source": [
    "ola_data_original"
   ]
  },
  {
   "cell_type": "code",
   "execution_count": 21,
   "id": "97578ad3",
   "metadata": {},
   "outputs": [],
   "source": [
    "#checking the missing values after knn imputation\n",
    "ola_missingdata = pd.DataFrame(columns=['Feature','Numberofmissingvalues','Percent'])\n",
    "ola_missingdata['Feature'] = ola_data_original.columns\n",
    "ola_missingdata['Numberofmissingvalues'] = [ola_data_original[i].isna().sum() for i in ola_data_original.columns.values]\n",
    "ola_missingdata['Percent'] = [(ola_data_original[i].isna().sum()/len(ola_data_original))*100 for i in ola_data_original.columns.values]"
   ]
  },
  {
   "cell_type": "code",
   "execution_count": 22,
   "id": "93c8aa35",
   "metadata": {},
   "outputs": [
    {
     "data": {
      "text/html": [
       "<div>\n",
       "<style scoped>\n",
       "    .dataframe tbody tr th:only-of-type {\n",
       "        vertical-align: middle;\n",
       "    }\n",
       "\n",
       "    .dataframe tbody tr th {\n",
       "        vertical-align: top;\n",
       "    }\n",
       "\n",
       "    .dataframe thead th {\n",
       "        text-align: right;\n",
       "    }\n",
       "</style>\n",
       "<table border=\"1\" class=\"dataframe\">\n",
       "  <thead>\n",
       "    <tr style=\"text-align: right;\">\n",
       "      <th></th>\n",
       "      <th>Feature</th>\n",
       "      <th>Numberofmissingvalues</th>\n",
       "      <th>Percent</th>\n",
       "    </tr>\n",
       "  </thead>\n",
       "  <tbody>\n",
       "    <tr>\n",
       "      <th>0</th>\n",
       "      <td>MMM-YY</td>\n",
       "      <td>0</td>\n",
       "      <td>0.000000</td>\n",
       "    </tr>\n",
       "    <tr>\n",
       "      <th>1</th>\n",
       "      <td>Driver_ID</td>\n",
       "      <td>0</td>\n",
       "      <td>0.000000</td>\n",
       "    </tr>\n",
       "    <tr>\n",
       "      <th>2</th>\n",
       "      <td>Age</td>\n",
       "      <td>0</td>\n",
       "      <td>0.000000</td>\n",
       "    </tr>\n",
       "    <tr>\n",
       "      <th>3</th>\n",
       "      <td>Gender</td>\n",
       "      <td>0</td>\n",
       "      <td>0.000000</td>\n",
       "    </tr>\n",
       "    <tr>\n",
       "      <th>4</th>\n",
       "      <td>City</td>\n",
       "      <td>0</td>\n",
       "      <td>0.000000</td>\n",
       "    </tr>\n",
       "    <tr>\n",
       "      <th>5</th>\n",
       "      <td>Education_Level</td>\n",
       "      <td>0</td>\n",
       "      <td>0.000000</td>\n",
       "    </tr>\n",
       "    <tr>\n",
       "      <th>6</th>\n",
       "      <td>Income</td>\n",
       "      <td>0</td>\n",
       "      <td>0.000000</td>\n",
       "    </tr>\n",
       "    <tr>\n",
       "      <th>7</th>\n",
       "      <td>Dateofjoining</td>\n",
       "      <td>0</td>\n",
       "      <td>0.000000</td>\n",
       "    </tr>\n",
       "    <tr>\n",
       "      <th>8</th>\n",
       "      <td>LastWorkingDate</td>\n",
       "      <td>17488</td>\n",
       "      <td>91.541039</td>\n",
       "    </tr>\n",
       "    <tr>\n",
       "      <th>9</th>\n",
       "      <td>Joining Designation</td>\n",
       "      <td>0</td>\n",
       "      <td>0.000000</td>\n",
       "    </tr>\n",
       "    <tr>\n",
       "      <th>10</th>\n",
       "      <td>Grade</td>\n",
       "      <td>0</td>\n",
       "      <td>0.000000</td>\n",
       "    </tr>\n",
       "    <tr>\n",
       "      <th>11</th>\n",
       "      <td>Total Business Value</td>\n",
       "      <td>0</td>\n",
       "      <td>0.000000</td>\n",
       "    </tr>\n",
       "    <tr>\n",
       "      <th>12</th>\n",
       "      <td>Quarterly Rating</td>\n",
       "      <td>0</td>\n",
       "      <td>0.000000</td>\n",
       "    </tr>\n",
       "  </tbody>\n",
       "</table>\n",
       "</div>"
      ],
      "text/plain": [
       "                 Feature  Numberofmissingvalues    Percent\n",
       "0                 MMM-YY                      0   0.000000\n",
       "1              Driver_ID                      0   0.000000\n",
       "2                    Age                      0   0.000000\n",
       "3                 Gender                      0   0.000000\n",
       "4                   City                      0   0.000000\n",
       "5        Education_Level                      0   0.000000\n",
       "6                 Income                      0   0.000000\n",
       "7          Dateofjoining                      0   0.000000\n",
       "8        LastWorkingDate                  17488  91.541039\n",
       "9    Joining Designation                      0   0.000000\n",
       "10                 Grade                      0   0.000000\n",
       "11  Total Business Value                      0   0.000000\n",
       "12      Quarterly Rating                      0   0.000000"
      ]
     },
     "execution_count": 22,
     "metadata": {},
     "output_type": "execute_result"
    }
   ],
   "source": [
    "ola_missingdata"
   ]
  },
  {
   "cell_type": "markdown",
   "id": "d3badcd7",
   "metadata": {},
   "source": [
    "__I have used the knn imputation technique to impute missing columns for the columns Age and Gender.__"
   ]
  },
  {
   "cell_type": "code",
   "execution_count": 23,
   "id": "1385a134",
   "metadata": {},
   "outputs": [
    {
     "data": {
      "text/html": [
       "<div>\n",
       "<style scoped>\n",
       "    .dataframe tbody tr th:only-of-type {\n",
       "        vertical-align: middle;\n",
       "    }\n",
       "\n",
       "    .dataframe tbody tr th {\n",
       "        vertical-align: top;\n",
       "    }\n",
       "\n",
       "    .dataframe thead th {\n",
       "        text-align: right;\n",
       "    }\n",
       "</style>\n",
       "<table border=\"1\" class=\"dataframe\">\n",
       "  <thead>\n",
       "    <tr style=\"text-align: right;\">\n",
       "      <th></th>\n",
       "      <th>MMM-YY</th>\n",
       "      <th>Driver_ID</th>\n",
       "      <th>Age</th>\n",
       "      <th>Gender</th>\n",
       "      <th>City</th>\n",
       "      <th>Education_Level</th>\n",
       "      <th>Income</th>\n",
       "      <th>Dateofjoining</th>\n",
       "      <th>LastWorkingDate</th>\n",
       "      <th>Joining Designation</th>\n",
       "      <th>Grade</th>\n",
       "      <th>Total Business Value</th>\n",
       "      <th>Quarterly Rating</th>\n",
       "    </tr>\n",
       "  </thead>\n",
       "  <tbody>\n",
       "    <tr>\n",
       "      <th>0</th>\n",
       "      <td>2019-01-01</td>\n",
       "      <td>1</td>\n",
       "      <td>28.0</td>\n",
       "      <td>0.0</td>\n",
       "      <td>C23</td>\n",
       "      <td>2</td>\n",
       "      <td>57387</td>\n",
       "      <td>2018-12-24</td>\n",
       "      <td>NaT</td>\n",
       "      <td>1</td>\n",
       "      <td>1</td>\n",
       "      <td>2381060</td>\n",
       "      <td>2</td>\n",
       "    </tr>\n",
       "    <tr>\n",
       "      <th>1</th>\n",
       "      <td>2019-02-01</td>\n",
       "      <td>1</td>\n",
       "      <td>28.0</td>\n",
       "      <td>0.0</td>\n",
       "      <td>C23</td>\n",
       "      <td>2</td>\n",
       "      <td>57387</td>\n",
       "      <td>2018-12-24</td>\n",
       "      <td>NaT</td>\n",
       "      <td>1</td>\n",
       "      <td>1</td>\n",
       "      <td>-665480</td>\n",
       "      <td>2</td>\n",
       "    </tr>\n",
       "    <tr>\n",
       "      <th>2</th>\n",
       "      <td>2019-03-01</td>\n",
       "      <td>1</td>\n",
       "      <td>28.0</td>\n",
       "      <td>0.0</td>\n",
       "      <td>C23</td>\n",
       "      <td>2</td>\n",
       "      <td>57387</td>\n",
       "      <td>2018-12-24</td>\n",
       "      <td>2019-03-11</td>\n",
       "      <td>1</td>\n",
       "      <td>1</td>\n",
       "      <td>0</td>\n",
       "      <td>2</td>\n",
       "    </tr>\n",
       "    <tr>\n",
       "      <th>3</th>\n",
       "      <td>2020-11-01</td>\n",
       "      <td>2</td>\n",
       "      <td>31.0</td>\n",
       "      <td>0.0</td>\n",
       "      <td>C7</td>\n",
       "      <td>2</td>\n",
       "      <td>67016</td>\n",
       "      <td>2020-11-06</td>\n",
       "      <td>NaT</td>\n",
       "      <td>2</td>\n",
       "      <td>2</td>\n",
       "      <td>0</td>\n",
       "      <td>1</td>\n",
       "    </tr>\n",
       "    <tr>\n",
       "      <th>4</th>\n",
       "      <td>2020-12-01</td>\n",
       "      <td>2</td>\n",
       "      <td>31.0</td>\n",
       "      <td>0.0</td>\n",
       "      <td>C7</td>\n",
       "      <td>2</td>\n",
       "      <td>67016</td>\n",
       "      <td>2020-11-06</td>\n",
       "      <td>NaT</td>\n",
       "      <td>2</td>\n",
       "      <td>2</td>\n",
       "      <td>0</td>\n",
       "      <td>1</td>\n",
       "    </tr>\n",
       "    <tr>\n",
       "      <th>5</th>\n",
       "      <td>2019-12-01</td>\n",
       "      <td>4</td>\n",
       "      <td>43.0</td>\n",
       "      <td>0.0</td>\n",
       "      <td>C13</td>\n",
       "      <td>2</td>\n",
       "      <td>65603</td>\n",
       "      <td>2019-12-07</td>\n",
       "      <td>NaT</td>\n",
       "      <td>2</td>\n",
       "      <td>2</td>\n",
       "      <td>0</td>\n",
       "      <td>1</td>\n",
       "    </tr>\n",
       "    <tr>\n",
       "      <th>6</th>\n",
       "      <td>2020-01-01</td>\n",
       "      <td>4</td>\n",
       "      <td>43.0</td>\n",
       "      <td>0.0</td>\n",
       "      <td>C13</td>\n",
       "      <td>2</td>\n",
       "      <td>65603</td>\n",
       "      <td>2019-12-07</td>\n",
       "      <td>NaT</td>\n",
       "      <td>2</td>\n",
       "      <td>2</td>\n",
       "      <td>0</td>\n",
       "      <td>1</td>\n",
       "    </tr>\n",
       "    <tr>\n",
       "      <th>7</th>\n",
       "      <td>2020-02-01</td>\n",
       "      <td>4</td>\n",
       "      <td>43.0</td>\n",
       "      <td>0.0</td>\n",
       "      <td>C13</td>\n",
       "      <td>2</td>\n",
       "      <td>65603</td>\n",
       "      <td>2019-12-07</td>\n",
       "      <td>NaT</td>\n",
       "      <td>2</td>\n",
       "      <td>2</td>\n",
       "      <td>0</td>\n",
       "      <td>1</td>\n",
       "    </tr>\n",
       "    <tr>\n",
       "      <th>8</th>\n",
       "      <td>2020-03-01</td>\n",
       "      <td>4</td>\n",
       "      <td>43.0</td>\n",
       "      <td>0.0</td>\n",
       "      <td>C13</td>\n",
       "      <td>2</td>\n",
       "      <td>65603</td>\n",
       "      <td>2019-12-07</td>\n",
       "      <td>NaT</td>\n",
       "      <td>2</td>\n",
       "      <td>2</td>\n",
       "      <td>350000</td>\n",
       "      <td>1</td>\n",
       "    </tr>\n",
       "    <tr>\n",
       "      <th>9</th>\n",
       "      <td>2020-04-01</td>\n",
       "      <td>4</td>\n",
       "      <td>43.0</td>\n",
       "      <td>0.0</td>\n",
       "      <td>C13</td>\n",
       "      <td>2</td>\n",
       "      <td>65603</td>\n",
       "      <td>2019-12-07</td>\n",
       "      <td>2020-04-27</td>\n",
       "      <td>2</td>\n",
       "      <td>2</td>\n",
       "      <td>0</td>\n",
       "      <td>1</td>\n",
       "    </tr>\n",
       "    <tr>\n",
       "      <th>10</th>\n",
       "      <td>2019-01-01</td>\n",
       "      <td>5</td>\n",
       "      <td>29.0</td>\n",
       "      <td>0.0</td>\n",
       "      <td>C9</td>\n",
       "      <td>0</td>\n",
       "      <td>46368</td>\n",
       "      <td>2019-01-09</td>\n",
       "      <td>NaT</td>\n",
       "      <td>1</td>\n",
       "      <td>1</td>\n",
       "      <td>0</td>\n",
       "      <td>1</td>\n",
       "    </tr>\n",
       "    <tr>\n",
       "      <th>11</th>\n",
       "      <td>2019-02-01</td>\n",
       "      <td>5</td>\n",
       "      <td>29.0</td>\n",
       "      <td>0.0</td>\n",
       "      <td>C9</td>\n",
       "      <td>0</td>\n",
       "      <td>46368</td>\n",
       "      <td>2019-01-09</td>\n",
       "      <td>NaT</td>\n",
       "      <td>1</td>\n",
       "      <td>1</td>\n",
       "      <td>120360</td>\n",
       "      <td>1</td>\n",
       "    </tr>\n",
       "    <tr>\n",
       "      <th>12</th>\n",
       "      <td>2019-03-01</td>\n",
       "      <td>5</td>\n",
       "      <td>29.0</td>\n",
       "      <td>0.0</td>\n",
       "      <td>C9</td>\n",
       "      <td>0</td>\n",
       "      <td>46368</td>\n",
       "      <td>2019-01-09</td>\n",
       "      <td>2019-03-07</td>\n",
       "      <td>1</td>\n",
       "      <td>1</td>\n",
       "      <td>0</td>\n",
       "      <td>1</td>\n",
       "    </tr>\n",
       "    <tr>\n",
       "      <th>13</th>\n",
       "      <td>2020-08-01</td>\n",
       "      <td>6</td>\n",
       "      <td>31.0</td>\n",
       "      <td>1.0</td>\n",
       "      <td>C11</td>\n",
       "      <td>1</td>\n",
       "      <td>78728</td>\n",
       "      <td>2020-07-31</td>\n",
       "      <td>NaT</td>\n",
       "      <td>3</td>\n",
       "      <td>3</td>\n",
       "      <td>0</td>\n",
       "      <td>1</td>\n",
       "    </tr>\n",
       "    <tr>\n",
       "      <th>14</th>\n",
       "      <td>2020-09-01</td>\n",
       "      <td>6</td>\n",
       "      <td>31.0</td>\n",
       "      <td>1.0</td>\n",
       "      <td>C11</td>\n",
       "      <td>1</td>\n",
       "      <td>78728</td>\n",
       "      <td>2020-07-31</td>\n",
       "      <td>NaT</td>\n",
       "      <td>3</td>\n",
       "      <td>3</td>\n",
       "      <td>0</td>\n",
       "      <td>1</td>\n",
       "    </tr>\n",
       "    <tr>\n",
       "      <th>15</th>\n",
       "      <td>2020-10-01</td>\n",
       "      <td>6</td>\n",
       "      <td>31.0</td>\n",
       "      <td>1.0</td>\n",
       "      <td>C11</td>\n",
       "      <td>1</td>\n",
       "      <td>78728</td>\n",
       "      <td>2020-07-31</td>\n",
       "      <td>NaT</td>\n",
       "      <td>3</td>\n",
       "      <td>3</td>\n",
       "      <td>0</td>\n",
       "      <td>2</td>\n",
       "    </tr>\n",
       "    <tr>\n",
       "      <th>16</th>\n",
       "      <td>2020-11-01</td>\n",
       "      <td>6</td>\n",
       "      <td>31.0</td>\n",
       "      <td>1.0</td>\n",
       "      <td>C11</td>\n",
       "      <td>1</td>\n",
       "      <td>78728</td>\n",
       "      <td>2020-07-31</td>\n",
       "      <td>NaT</td>\n",
       "      <td>3</td>\n",
       "      <td>3</td>\n",
       "      <td>1265000</td>\n",
       "      <td>2</td>\n",
       "    </tr>\n",
       "    <tr>\n",
       "      <th>17</th>\n",
       "      <td>2020-12-01</td>\n",
       "      <td>6</td>\n",
       "      <td>31.0</td>\n",
       "      <td>1.0</td>\n",
       "      <td>C11</td>\n",
       "      <td>1</td>\n",
       "      <td>78728</td>\n",
       "      <td>2020-07-31</td>\n",
       "      <td>NaT</td>\n",
       "      <td>3</td>\n",
       "      <td>3</td>\n",
       "      <td>0</td>\n",
       "      <td>2</td>\n",
       "    </tr>\n",
       "    <tr>\n",
       "      <th>18</th>\n",
       "      <td>2020-09-01</td>\n",
       "      <td>8</td>\n",
       "      <td>34.0</td>\n",
       "      <td>0.0</td>\n",
       "      <td>C2</td>\n",
       "      <td>0</td>\n",
       "      <td>70656</td>\n",
       "      <td>2020-09-19</td>\n",
       "      <td>NaT</td>\n",
       "      <td>3</td>\n",
       "      <td>3</td>\n",
       "      <td>0</td>\n",
       "      <td>1</td>\n",
       "    </tr>\n",
       "    <tr>\n",
       "      <th>19</th>\n",
       "      <td>2020-10-01</td>\n",
       "      <td>8</td>\n",
       "      <td>34.0</td>\n",
       "      <td>0.0</td>\n",
       "      <td>C2</td>\n",
       "      <td>0</td>\n",
       "      <td>70656</td>\n",
       "      <td>2020-09-19</td>\n",
       "      <td>NaT</td>\n",
       "      <td>3</td>\n",
       "      <td>3</td>\n",
       "      <td>0</td>\n",
       "      <td>1</td>\n",
       "    </tr>\n",
       "  </tbody>\n",
       "</table>\n",
       "</div>"
      ],
      "text/plain": [
       "       MMM-YY  Driver_ID   Age  Gender City  Education_Level  Income  \\\n",
       "0  2019-01-01          1  28.0     0.0  C23                2   57387   \n",
       "1  2019-02-01          1  28.0     0.0  C23                2   57387   \n",
       "2  2019-03-01          1  28.0     0.0  C23                2   57387   \n",
       "3  2020-11-01          2  31.0     0.0   C7                2   67016   \n",
       "4  2020-12-01          2  31.0     0.0   C7                2   67016   \n",
       "5  2019-12-01          4  43.0     0.0  C13                2   65603   \n",
       "6  2020-01-01          4  43.0     0.0  C13                2   65603   \n",
       "7  2020-02-01          4  43.0     0.0  C13                2   65603   \n",
       "8  2020-03-01          4  43.0     0.0  C13                2   65603   \n",
       "9  2020-04-01          4  43.0     0.0  C13                2   65603   \n",
       "10 2019-01-01          5  29.0     0.0   C9                0   46368   \n",
       "11 2019-02-01          5  29.0     0.0   C9                0   46368   \n",
       "12 2019-03-01          5  29.0     0.0   C9                0   46368   \n",
       "13 2020-08-01          6  31.0     1.0  C11                1   78728   \n",
       "14 2020-09-01          6  31.0     1.0  C11                1   78728   \n",
       "15 2020-10-01          6  31.0     1.0  C11                1   78728   \n",
       "16 2020-11-01          6  31.0     1.0  C11                1   78728   \n",
       "17 2020-12-01          6  31.0     1.0  C11                1   78728   \n",
       "18 2020-09-01          8  34.0     0.0   C2                0   70656   \n",
       "19 2020-10-01          8  34.0     0.0   C2                0   70656   \n",
       "\n",
       "   Dateofjoining LastWorkingDate  Joining Designation  Grade  \\\n",
       "0     2018-12-24             NaT                    1      1   \n",
       "1     2018-12-24             NaT                    1      1   \n",
       "2     2018-12-24      2019-03-11                    1      1   \n",
       "3     2020-11-06             NaT                    2      2   \n",
       "4     2020-11-06             NaT                    2      2   \n",
       "5     2019-12-07             NaT                    2      2   \n",
       "6     2019-12-07             NaT                    2      2   \n",
       "7     2019-12-07             NaT                    2      2   \n",
       "8     2019-12-07             NaT                    2      2   \n",
       "9     2019-12-07      2020-04-27                    2      2   \n",
       "10    2019-01-09             NaT                    1      1   \n",
       "11    2019-01-09             NaT                    1      1   \n",
       "12    2019-01-09      2019-03-07                    1      1   \n",
       "13    2020-07-31             NaT                    3      3   \n",
       "14    2020-07-31             NaT                    3      3   \n",
       "15    2020-07-31             NaT                    3      3   \n",
       "16    2020-07-31             NaT                    3      3   \n",
       "17    2020-07-31             NaT                    3      3   \n",
       "18    2020-09-19             NaT                    3      3   \n",
       "19    2020-09-19             NaT                    3      3   \n",
       "\n",
       "    Total Business Value  Quarterly Rating  \n",
       "0                2381060                 2  \n",
       "1                -665480                 2  \n",
       "2                      0                 2  \n",
       "3                      0                 1  \n",
       "4                      0                 1  \n",
       "5                      0                 1  \n",
       "6                      0                 1  \n",
       "7                      0                 1  \n",
       "8                 350000                 1  \n",
       "9                      0                 1  \n",
       "10                     0                 1  \n",
       "11                120360                 1  \n",
       "12                     0                 1  \n",
       "13                     0                 1  \n",
       "14                     0                 1  \n",
       "15                     0                 2  \n",
       "16               1265000                 2  \n",
       "17                     0                 2  \n",
       "18                     0                 1  \n",
       "19                     0                 1  "
      ]
     },
     "execution_count": 23,
     "metadata": {},
     "output_type": "execute_result"
    }
   ],
   "source": [
    "ola_data_original.head(20)"
   ]
  },
  {
   "cell_type": "code",
   "execution_count": 24,
   "id": "91151b97",
   "metadata": {},
   "outputs": [],
   "source": [
    "#grouping the driver_id as there are multiple rows for each driver_id\n",
    "ola_data_final = ola_data_original.groupby('Driver_ID').agg({'MMM-YY':'last','Age':'last','Gender':'last','City':'last','Education_Level':'last','Income':'last','Dateofjoining':'last','LastWorkingDate':'last','Joining Designation':'last','Grade':'last','Total Business Value':'sum','Quarterly Rating':'last'})"
   ]
  },
  {
   "cell_type": "code",
   "execution_count": 25,
   "id": "8c096bad",
   "metadata": {},
   "outputs": [],
   "source": [
    "ola_data_final.reset_index(inplace=True)"
   ]
  },
  {
   "cell_type": "code",
   "execution_count": 26,
   "id": "190d422e",
   "metadata": {},
   "outputs": [
    {
     "data": {
      "text/plain": [
       "(2381, 13)"
      ]
     },
     "execution_count": 26,
     "metadata": {},
     "output_type": "execute_result"
    }
   ],
   "source": [
    "ola_data_final.shape"
   ]
  },
  {
   "cell_type": "code",
   "execution_count": 27,
   "id": "37ed0b67",
   "metadata": {},
   "outputs": [
    {
     "data": {
      "text/plain": [
       "Driver_ID                 0\n",
       "MMM-YY                    0\n",
       "Age                       0\n",
       "Gender                    0\n",
       "City                      0\n",
       "Education_Level           0\n",
       "Income                    0\n",
       "Dateofjoining             0\n",
       "LastWorkingDate         765\n",
       "Joining Designation       0\n",
       "Grade                     0\n",
       "Total Business Value      0\n",
       "Quarterly Rating          0\n",
       "dtype: int64"
      ]
     },
     "execution_count": 27,
     "metadata": {},
     "output_type": "execute_result"
    }
   ],
   "source": [
    "ola_data_final.isna().sum()"
   ]
  },
  {
   "cell_type": "code",
   "execution_count": 28,
   "id": "e2b69cce",
   "metadata": {},
   "outputs": [],
   "source": [
    "#Target is the variable that describes whether the employee left the company or not.If the last working date is null for the employee we will mark it as 0 else 1.\n",
    "ola_data_final['target'] = ola_data_final.apply(lambda x: 1 if(x.LastWorkingDate is not pd.NaT) else 0,axis=1)"
   ]
  },
  {
   "cell_type": "code",
   "execution_count": 29,
   "id": "3a97d5e4",
   "metadata": {},
   "outputs": [],
   "source": [
    "df=pd.DataFrame(ola_data_original.groupby('Driver_ID').aggregate(Incomemax = ('Income','max'),Incomemin=('Income','min')))\n",
    "df['Diff'] = df['Incomemax']-df['Incomemin']"
   ]
  },
  {
   "cell_type": "code",
   "execution_count": 30,
   "id": "0d0bdeb8",
   "metadata": {},
   "outputs": [],
   "source": [
    "#adding a new column to the dataset that describes if the salary has been incremented for the employee\n",
    "ola_data_final['increment_income'] = ola_data_final.apply(lambda x:1 if(df.loc[x.Driver_ID,'Diff']>0) else 0,axis=1)"
   ]
  },
  {
   "cell_type": "code",
   "execution_count": 31,
   "id": "966fec8f",
   "metadata": {},
   "outputs": [
    {
     "data": {
      "text/plain": [
       "0    2337\n",
       "1      44\n",
       "Name: increment_income, dtype: int64"
      ]
     },
     "execution_count": 31,
     "metadata": {},
     "output_type": "execute_result"
    }
   ],
   "source": [
    "ola_data_final['increment_income'].value_counts()"
   ]
  },
  {
   "cell_type": "code",
   "execution_count": 32,
   "id": "f3e87a25",
   "metadata": {},
   "outputs": [],
   "source": [
    "#adding a new column to the dataset that describes if the rating has been improved for the employee\n",
    "df2=pd.DataFrame(ola_data_original.groupby('Driver_ID').aggregate(Qratemax = ('Quarterly Rating','max'),Qratemin=('Quarterly Rating','min')))\n",
    "df2['Diff'] = df2['Qratemax']-df2['Qratemin']"
   ]
  },
  {
   "cell_type": "code",
   "execution_count": 33,
   "id": "8a4e383b",
   "metadata": {},
   "outputs": [],
   "source": [
    "ola_data_final['rating_improved'] = ola_data_final.apply(lambda x:1 if(df2.loc[x.Driver_ID,'Diff']>0) else 0,axis=1)"
   ]
  },
  {
   "cell_type": "code",
   "execution_count": 34,
   "id": "afce2301",
   "metadata": {},
   "outputs": [
    {
     "data": {
      "text/plain": [
       "0    1277\n",
       "1    1104\n",
       "Name: rating_improved, dtype: int64"
      ]
     },
     "execution_count": 34,
     "metadata": {},
     "output_type": "execute_result"
    }
   ],
   "source": [
    "ola_data_final['rating_improved'].value_counts()"
   ]
  },
  {
   "cell_type": "code",
   "execution_count": 35,
   "id": "c5e204c1",
   "metadata": {},
   "outputs": [],
   "source": [
    "ola_data_final['Lastworkingyear'] = ola_data_final['LastWorkingDate'].dt.year"
   ]
  },
  {
   "cell_type": "code",
   "execution_count": 36,
   "id": "d5593ce3",
   "metadata": {},
   "outputs": [],
   "source": [
    "ola_data_final['JoiningMonth'] = ola_data_final['Dateofjoining'].dt.month\n",
    "ola_data_final['JoiningYear'] = ola_data_final['Dateofjoining'].dt.year"
   ]
  },
  {
   "cell_type": "code",
   "execution_count": 37,
   "id": "29497877",
   "metadata": {},
   "outputs": [],
   "source": [
    "ola_data_final['Lastworkingmonth'] = ola_data_final['LastWorkingDate'].dt.month"
   ]
  },
  {
   "cell_type": "markdown",
   "id": "be3f6ac2",
   "metadata": {},
   "source": [
    "#### EDA on the derived dataset"
   ]
  },
  {
   "cell_type": "code",
   "execution_count": 38,
   "id": "20288f79",
   "metadata": {},
   "outputs": [
    {
     "data": {
      "text/plain": [
       "(2381, 20)"
      ]
     },
     "execution_count": 38,
     "metadata": {},
     "output_type": "execute_result"
    }
   ],
   "source": [
    "ola_data_final.shape"
   ]
  },
  {
   "cell_type": "markdown",
   "id": "0784b5c1",
   "metadata": {},
   "source": [
    "__We have 16 columns and 2381 rows in the derived dataset.__"
   ]
  },
  {
   "cell_type": "code",
   "execution_count": 39,
   "id": "896e9e29",
   "metadata": {},
   "outputs": [
    {
     "data": {
      "text/html": [
       "<div>\n",
       "<style scoped>\n",
       "    .dataframe tbody tr th:only-of-type {\n",
       "        vertical-align: middle;\n",
       "    }\n",
       "\n",
       "    .dataframe tbody tr th {\n",
       "        vertical-align: top;\n",
       "    }\n",
       "\n",
       "    .dataframe thead th {\n",
       "        text-align: right;\n",
       "    }\n",
       "</style>\n",
       "<table border=\"1\" class=\"dataframe\">\n",
       "  <thead>\n",
       "    <tr style=\"text-align: right;\">\n",
       "      <th></th>\n",
       "      <th>Driver_ID</th>\n",
       "      <th>Age</th>\n",
       "      <th>Gender</th>\n",
       "      <th>Education_Level</th>\n",
       "      <th>Income</th>\n",
       "      <th>Joining Designation</th>\n",
       "      <th>Grade</th>\n",
       "      <th>Total Business Value</th>\n",
       "      <th>Quarterly Rating</th>\n",
       "      <th>target</th>\n",
       "      <th>increment_income</th>\n",
       "      <th>rating_improved</th>\n",
       "      <th>Lastworkingyear</th>\n",
       "      <th>JoiningMonth</th>\n",
       "      <th>JoiningYear</th>\n",
       "      <th>Lastworkingmonth</th>\n",
       "    </tr>\n",
       "  </thead>\n",
       "  <tbody>\n",
       "    <tr>\n",
       "      <th>count</th>\n",
       "      <td>2381.000000</td>\n",
       "      <td>2381.000000</td>\n",
       "      <td>2381.000000</td>\n",
       "      <td>2381.00000</td>\n",
       "      <td>2381.000000</td>\n",
       "      <td>2381.000000</td>\n",
       "      <td>2381.000000</td>\n",
       "      <td>2.381000e+03</td>\n",
       "      <td>2381.000000</td>\n",
       "      <td>2381.000000</td>\n",
       "      <td>2381.000000</td>\n",
       "      <td>2381.000000</td>\n",
       "      <td>1616.000000</td>\n",
       "      <td>2381.000000</td>\n",
       "      <td>2381.000000</td>\n",
       "      <td>1616.000000</td>\n",
       "    </tr>\n",
       "    <tr>\n",
       "      <th>mean</th>\n",
       "      <td>1397.559009</td>\n",
       "      <td>33.665477</td>\n",
       "      <td>0.410122</td>\n",
       "      <td>1.00756</td>\n",
       "      <td>59334.157077</td>\n",
       "      <td>1.820244</td>\n",
       "      <td>2.096598</td>\n",
       "      <td>4.586742e+06</td>\n",
       "      <td>1.427971</td>\n",
       "      <td>0.678706</td>\n",
       "      <td>0.018480</td>\n",
       "      <td>0.463671</td>\n",
       "      <td>2019.483292</td>\n",
       "      <td>7.357413</td>\n",
       "      <td>2018.536329</td>\n",
       "      <td>6.358911</td>\n",
       "    </tr>\n",
       "    <tr>\n",
       "      <th>std</th>\n",
       "      <td>806.161628</td>\n",
       "      <td>5.981688</td>\n",
       "      <td>0.491852</td>\n",
       "      <td>0.81629</td>\n",
       "      <td>28383.666384</td>\n",
       "      <td>0.841433</td>\n",
       "      <td>0.941522</td>\n",
       "      <td>9.127115e+06</td>\n",
       "      <td>0.809839</td>\n",
       "      <td>0.467071</td>\n",
       "      <td>0.134706</td>\n",
       "      <td>0.498783</td>\n",
       "      <td>0.506031</td>\n",
       "      <td>3.143143</td>\n",
       "      <td>1.609597</td>\n",
       "      <td>3.477823</td>\n",
       "    </tr>\n",
       "    <tr>\n",
       "      <th>min</th>\n",
       "      <td>1.000000</td>\n",
       "      <td>21.000000</td>\n",
       "      <td>0.000000</td>\n",
       "      <td>0.00000</td>\n",
       "      <td>10747.000000</td>\n",
       "      <td>1.000000</td>\n",
       "      <td>1.000000</td>\n",
       "      <td>-1.385530e+06</td>\n",
       "      <td>1.000000</td>\n",
       "      <td>0.000000</td>\n",
       "      <td>0.000000</td>\n",
       "      <td>0.000000</td>\n",
       "      <td>2018.000000</td>\n",
       "      <td>1.000000</td>\n",
       "      <td>2013.000000</td>\n",
       "      <td>1.000000</td>\n",
       "    </tr>\n",
       "    <tr>\n",
       "      <th>25%</th>\n",
       "      <td>695.000000</td>\n",
       "      <td>29.000000</td>\n",
       "      <td>0.000000</td>\n",
       "      <td>0.00000</td>\n",
       "      <td>39104.000000</td>\n",
       "      <td>1.000000</td>\n",
       "      <td>1.000000</td>\n",
       "      <td>0.000000e+00</td>\n",
       "      <td>1.000000</td>\n",
       "      <td>0.000000</td>\n",
       "      <td>0.000000</td>\n",
       "      <td>0.000000</td>\n",
       "      <td>2019.000000</td>\n",
       "      <td>5.000000</td>\n",
       "      <td>2018.000000</td>\n",
       "      <td>3.000000</td>\n",
       "    </tr>\n",
       "    <tr>\n",
       "      <th>50%</th>\n",
       "      <td>1400.000000</td>\n",
       "      <td>33.000000</td>\n",
       "      <td>0.000000</td>\n",
       "      <td>1.00000</td>\n",
       "      <td>55315.000000</td>\n",
       "      <td>2.000000</td>\n",
       "      <td>2.000000</td>\n",
       "      <td>8.176800e+05</td>\n",
       "      <td>1.000000</td>\n",
       "      <td>1.000000</td>\n",
       "      <td>0.000000</td>\n",
       "      <td>0.000000</td>\n",
       "      <td>2019.000000</td>\n",
       "      <td>7.000000</td>\n",
       "      <td>2019.000000</td>\n",
       "      <td>6.000000</td>\n",
       "    </tr>\n",
       "    <tr>\n",
       "      <th>75%</th>\n",
       "      <td>2100.000000</td>\n",
       "      <td>37.000000</td>\n",
       "      <td>1.000000</td>\n",
       "      <td>2.00000</td>\n",
       "      <td>75986.000000</td>\n",
       "      <td>2.000000</td>\n",
       "      <td>3.000000</td>\n",
       "      <td>4.173650e+06</td>\n",
       "      <td>2.000000</td>\n",
       "      <td>1.000000</td>\n",
       "      <td>0.000000</td>\n",
       "      <td>1.000000</td>\n",
       "      <td>2020.000000</td>\n",
       "      <td>10.000000</td>\n",
       "      <td>2020.000000</td>\n",
       "      <td>9.000000</td>\n",
       "    </tr>\n",
       "    <tr>\n",
       "      <th>max</th>\n",
       "      <td>2788.000000</td>\n",
       "      <td>58.000000</td>\n",
       "      <td>1.000000</td>\n",
       "      <td>2.00000</td>\n",
       "      <td>188418.000000</td>\n",
       "      <td>5.000000</td>\n",
       "      <td>5.000000</td>\n",
       "      <td>9.533106e+07</td>\n",
       "      <td>4.000000</td>\n",
       "      <td>1.000000</td>\n",
       "      <td>1.000000</td>\n",
       "      <td>1.000000</td>\n",
       "      <td>2020.000000</td>\n",
       "      <td>12.000000</td>\n",
       "      <td>2020.000000</td>\n",
       "      <td>12.000000</td>\n",
       "    </tr>\n",
       "  </tbody>\n",
       "</table>\n",
       "</div>"
      ],
      "text/plain": [
       "         Driver_ID          Age       Gender  Education_Level         Income  \\\n",
       "count  2381.000000  2381.000000  2381.000000       2381.00000    2381.000000   \n",
       "mean   1397.559009    33.665477     0.410122          1.00756   59334.157077   \n",
       "std     806.161628     5.981688     0.491852          0.81629   28383.666384   \n",
       "min       1.000000    21.000000     0.000000          0.00000   10747.000000   \n",
       "25%     695.000000    29.000000     0.000000          0.00000   39104.000000   \n",
       "50%    1400.000000    33.000000     0.000000          1.00000   55315.000000   \n",
       "75%    2100.000000    37.000000     1.000000          2.00000   75986.000000   \n",
       "max    2788.000000    58.000000     1.000000          2.00000  188418.000000   \n",
       "\n",
       "       Joining Designation        Grade  Total Business Value  \\\n",
       "count          2381.000000  2381.000000          2.381000e+03   \n",
       "mean              1.820244     2.096598          4.586742e+06   \n",
       "std               0.841433     0.941522          9.127115e+06   \n",
       "min               1.000000     1.000000         -1.385530e+06   \n",
       "25%               1.000000     1.000000          0.000000e+00   \n",
       "50%               2.000000     2.000000          8.176800e+05   \n",
       "75%               2.000000     3.000000          4.173650e+06   \n",
       "max               5.000000     5.000000          9.533106e+07   \n",
       "\n",
       "       Quarterly Rating       target  increment_income  rating_improved  \\\n",
       "count       2381.000000  2381.000000       2381.000000      2381.000000   \n",
       "mean           1.427971     0.678706          0.018480         0.463671   \n",
       "std            0.809839     0.467071          0.134706         0.498783   \n",
       "min            1.000000     0.000000          0.000000         0.000000   \n",
       "25%            1.000000     0.000000          0.000000         0.000000   \n",
       "50%            1.000000     1.000000          0.000000         0.000000   \n",
       "75%            2.000000     1.000000          0.000000         1.000000   \n",
       "max            4.000000     1.000000          1.000000         1.000000   \n",
       "\n",
       "       Lastworkingyear  JoiningMonth  JoiningYear  Lastworkingmonth  \n",
       "count      1616.000000   2381.000000  2381.000000       1616.000000  \n",
       "mean       2019.483292      7.357413  2018.536329          6.358911  \n",
       "std           0.506031      3.143143     1.609597          3.477823  \n",
       "min        2018.000000      1.000000  2013.000000          1.000000  \n",
       "25%        2019.000000      5.000000  2018.000000          3.000000  \n",
       "50%        2019.000000      7.000000  2019.000000          6.000000  \n",
       "75%        2020.000000     10.000000  2020.000000          9.000000  \n",
       "max        2020.000000     12.000000  2020.000000         12.000000  "
      ]
     },
     "execution_count": 39,
     "metadata": {},
     "output_type": "execute_result"
    }
   ],
   "source": [
    "ola_data_final.describe()"
   ]
  },
  {
   "cell_type": "code",
   "execution_count": 40,
   "id": "05fbc9cf",
   "metadata": {},
   "outputs": [
    {
     "name": "stdout",
     "output_type": "stream",
     "text": [
      "<class 'pandas.core.frame.DataFrame'>\n",
      "RangeIndex: 2381 entries, 0 to 2380\n",
      "Data columns (total 20 columns):\n",
      " #   Column                Non-Null Count  Dtype         \n",
      "---  ------                --------------  -----         \n",
      " 0   Driver_ID             2381 non-null   int64         \n",
      " 1   MMM-YY                2381 non-null   datetime64[ns]\n",
      " 2   Age                   2381 non-null   float64       \n",
      " 3   Gender                2381 non-null   float64       \n",
      " 4   City                  2381 non-null   object        \n",
      " 5   Education_Level       2381 non-null   int64         \n",
      " 6   Income                2381 non-null   int64         \n",
      " 7   Dateofjoining         2381 non-null   datetime64[ns]\n",
      " 8   LastWorkingDate       1616 non-null   datetime64[ns]\n",
      " 9   Joining Designation   2381 non-null   int64         \n",
      " 10  Grade                 2381 non-null   int64         \n",
      " 11  Total Business Value  2381 non-null   int64         \n",
      " 12  Quarterly Rating      2381 non-null   int64         \n",
      " 13  target                2381 non-null   int64         \n",
      " 14  increment_income      2381 non-null   int64         \n",
      " 15  rating_improved       2381 non-null   int64         \n",
      " 16  Lastworkingyear       1616 non-null   float64       \n",
      " 17  JoiningMonth          2381 non-null   int64         \n",
      " 18  JoiningYear           2381 non-null   int64         \n",
      " 19  Lastworkingmonth      1616 non-null   float64       \n",
      "dtypes: datetime64[ns](3), float64(4), int64(12), object(1)\n",
      "memory usage: 372.2+ KB\n"
     ]
    }
   ],
   "source": [
    "ola_data_final.info()"
   ]
  },
  {
   "cell_type": "code",
   "execution_count": 41,
   "id": "b9c10b49",
   "metadata": {},
   "outputs": [
    {
     "data": {
      "text/plain": [
       "Driver_ID                 0\n",
       "MMM-YY                    0\n",
       "Age                       0\n",
       "Gender                    0\n",
       "City                      0\n",
       "Education_Level           0\n",
       "Income                    0\n",
       "Dateofjoining             0\n",
       "LastWorkingDate         765\n",
       "Joining Designation       0\n",
       "Grade                     0\n",
       "Total Business Value      0\n",
       "Quarterly Rating          0\n",
       "target                    0\n",
       "increment_income          0\n",
       "rating_improved           0\n",
       "Lastworkingyear         765\n",
       "JoiningMonth              0\n",
       "JoiningYear               0\n",
       "Lastworkingmonth        765\n",
       "dtype: int64"
      ]
     },
     "execution_count": 41,
     "metadata": {},
     "output_type": "execute_result"
    }
   ],
   "source": [
    "#checking for missing values\n",
    "ola_data_final.isna().sum()"
   ]
  },
  {
   "cell_type": "code",
   "execution_count": 42,
   "id": "c1a9516f",
   "metadata": {},
   "outputs": [
    {
     "data": {
      "text/plain": [
       "Driver_ID               2381\n",
       "MMM-YY                    24\n",
       "Age                       37\n",
       "Gender                     3\n",
       "City                      29\n",
       "Education_Level            3\n",
       "Income                  2339\n",
       "Dateofjoining            869\n",
       "LastWorkingDate          493\n",
       "Joining Designation        5\n",
       "Grade                      5\n",
       "Total Business Value    1629\n",
       "Quarterly Rating           4\n",
       "target                     2\n",
       "increment_income           2\n",
       "rating_improved            2\n",
       "Lastworkingyear            3\n",
       "JoiningMonth              12\n",
       "JoiningYear                8\n",
       "Lastworkingmonth          12\n",
       "dtype: int64"
      ]
     },
     "execution_count": 42,
     "metadata": {},
     "output_type": "execute_result"
    }
   ],
   "source": [
    "#checking for the number of unique values in each column\n",
    "ola_data_final.nunique()"
   ]
  },
  {
   "cell_type": "markdown",
   "id": "6c052a9f",
   "metadata": {},
   "source": [
    "__We can see that there are 29 unique cities, 5 different grades, 4 quarterly ratings, 5 joining designations__"
   ]
  },
  {
   "cell_type": "code",
   "execution_count": 43,
   "id": "6ffb3a54",
   "metadata": {},
   "outputs": [
    {
     "data": {
      "text/html": [
       "<div>\n",
       "<style scoped>\n",
       "    .dataframe tbody tr th:only-of-type {\n",
       "        vertical-align: middle;\n",
       "    }\n",
       "\n",
       "    .dataframe tbody tr th {\n",
       "        vertical-align: top;\n",
       "    }\n",
       "\n",
       "    .dataframe thead th {\n",
       "        text-align: right;\n",
       "    }\n",
       "</style>\n",
       "<table border=\"1\" class=\"dataframe\">\n",
       "  <thead>\n",
       "    <tr style=\"text-align: right;\">\n",
       "      <th></th>\n",
       "      <th>Driver_ID</th>\n",
       "      <th>MMM-YY</th>\n",
       "      <th>Age</th>\n",
       "      <th>Gender</th>\n",
       "      <th>City</th>\n",
       "      <th>Education_Level</th>\n",
       "      <th>Income</th>\n",
       "      <th>Dateofjoining</th>\n",
       "      <th>LastWorkingDate</th>\n",
       "      <th>Joining Designation</th>\n",
       "      <th>Grade</th>\n",
       "      <th>Total Business Value</th>\n",
       "      <th>Quarterly Rating</th>\n",
       "      <th>target</th>\n",
       "      <th>increment_income</th>\n",
       "      <th>rating_improved</th>\n",
       "      <th>Lastworkingyear</th>\n",
       "      <th>JoiningMonth</th>\n",
       "      <th>JoiningYear</th>\n",
       "      <th>Lastworkingmonth</th>\n",
       "    </tr>\n",
       "  </thead>\n",
       "  <tbody>\n",
       "    <tr>\n",
       "      <th>676</th>\n",
       "      <td>793</td>\n",
       "      <td>2020-12-01</td>\n",
       "      <td>26.0</td>\n",
       "      <td>0.5</td>\n",
       "      <td>C7</td>\n",
       "      <td>2</td>\n",
       "      <td>92670</td>\n",
       "      <td>2020-10-30</td>\n",
       "      <td>NaT</td>\n",
       "      <td>3</td>\n",
       "      <td>3</td>\n",
       "      <td>127800</td>\n",
       "      <td>1</td>\n",
       "      <td>0</td>\n",
       "      <td>0</td>\n",
       "      <td>0</td>\n",
       "      <td>NaN</td>\n",
       "      <td>10</td>\n",
       "      <td>2020</td>\n",
       "      <td>NaN</td>\n",
       "    </tr>\n",
       "  </tbody>\n",
       "</table>\n",
       "</div>"
      ],
      "text/plain": [
       "     Driver_ID     MMM-YY   Age  Gender City  Education_Level  Income  \\\n",
       "676        793 2020-12-01  26.0     0.5   C7                2   92670   \n",
       "\n",
       "    Dateofjoining LastWorkingDate  Joining Designation  Grade  \\\n",
       "676    2020-10-30             NaT                    3      3   \n",
       "\n",
       "     Total Business Value  Quarterly Rating  target  increment_income  \\\n",
       "676                127800                 1       0                 0   \n",
       "\n",
       "     rating_improved  Lastworkingyear  JoiningMonth  JoiningYear  \\\n",
       "676                0              NaN            10         2020   \n",
       "\n",
       "     Lastworkingmonth  \n",
       "676               NaN  "
      ]
     },
     "execution_count": 43,
     "metadata": {},
     "output_type": "execute_result"
    }
   ],
   "source": [
    "#data preprocessing\n",
    "ola_data_final[(ola_data_final['Gender']!=1.0)&(ola_data_final['Gender']!=0.0)]"
   ]
  },
  {
   "cell_type": "markdown",
   "id": "edfa0281",
   "metadata": {},
   "source": [
    "__Due to imputation the Gender value has become 0.5 which does not make sense.__"
   ]
  },
  {
   "cell_type": "code",
   "execution_count": 44,
   "id": "a2e9fd23",
   "metadata": {},
   "outputs": [
    {
     "data": {
      "text/html": [
       "<div>\n",
       "<style scoped>\n",
       "    .dataframe tbody tr th:only-of-type {\n",
       "        vertical-align: middle;\n",
       "    }\n",
       "\n",
       "    .dataframe tbody tr th {\n",
       "        vertical-align: top;\n",
       "    }\n",
       "\n",
       "    .dataframe thead th {\n",
       "        text-align: right;\n",
       "    }\n",
       "</style>\n",
       "<table border=\"1\" class=\"dataframe\">\n",
       "  <thead>\n",
       "    <tr style=\"text-align: right;\">\n",
       "      <th></th>\n",
       "      <th>MMM-YY</th>\n",
       "      <th>Driver_ID</th>\n",
       "      <th>Age</th>\n",
       "      <th>Gender</th>\n",
       "      <th>City</th>\n",
       "      <th>Education_Level</th>\n",
       "      <th>Income</th>\n",
       "      <th>Dateofjoining</th>\n",
       "      <th>LastWorkingDate</th>\n",
       "      <th>Joining Designation</th>\n",
       "      <th>Grade</th>\n",
       "      <th>Total Business Value</th>\n",
       "      <th>Quarterly Rating</th>\n",
       "    </tr>\n",
       "  </thead>\n",
       "  <tbody>\n",
       "    <tr>\n",
       "      <th>5365</th>\n",
       "      <td>2020-11-01</td>\n",
       "      <td>793</td>\n",
       "      <td>26.0</td>\n",
       "      <td>1.0</td>\n",
       "      <td>C7</td>\n",
       "      <td>2</td>\n",
       "      <td>92670</td>\n",
       "      <td>2020-10-30</td>\n",
       "      <td>NaT</td>\n",
       "      <td>3</td>\n",
       "      <td>3</td>\n",
       "      <td>0</td>\n",
       "      <td>1</td>\n",
       "    </tr>\n",
       "    <tr>\n",
       "      <th>5366</th>\n",
       "      <td>2020-12-01</td>\n",
       "      <td>793</td>\n",
       "      <td>26.0</td>\n",
       "      <td>0.5</td>\n",
       "      <td>C7</td>\n",
       "      <td>2</td>\n",
       "      <td>92670</td>\n",
       "      <td>2020-10-30</td>\n",
       "      <td>NaT</td>\n",
       "      <td>3</td>\n",
       "      <td>3</td>\n",
       "      <td>127800</td>\n",
       "      <td>1</td>\n",
       "    </tr>\n",
       "  </tbody>\n",
       "</table>\n",
       "</div>"
      ],
      "text/plain": [
       "         MMM-YY  Driver_ID   Age  Gender City  Education_Level  Income  \\\n",
       "5365 2020-11-01        793  26.0     1.0   C7                2   92670   \n",
       "5366 2020-12-01        793  26.0     0.5   C7                2   92670   \n",
       "\n",
       "     Dateofjoining LastWorkingDate  Joining Designation  Grade  \\\n",
       "5365    2020-10-30             NaT                    3      3   \n",
       "5366    2020-10-30             NaT                    3      3   \n",
       "\n",
       "      Total Business Value  Quarterly Rating  \n",
       "5365                     0                 1  \n",
       "5366                127800                 1  "
      ]
     },
     "execution_count": 44,
     "metadata": {},
     "output_type": "execute_result"
    }
   ],
   "source": [
    "ola_data_original[ola_data_original['Driver_ID']==793]"
   ]
  },
  {
   "cell_type": "code",
   "execution_count": 45,
   "id": "405aca3b",
   "metadata": {},
   "outputs": [
    {
     "data": {
      "text/html": [
       "<div>\n",
       "<style scoped>\n",
       "    .dataframe tbody tr th:only-of-type {\n",
       "        vertical-align: middle;\n",
       "    }\n",
       "\n",
       "    .dataframe tbody tr th {\n",
       "        vertical-align: top;\n",
       "    }\n",
       "\n",
       "    .dataframe thead th {\n",
       "        text-align: right;\n",
       "    }\n",
       "</style>\n",
       "<table border=\"1\" class=\"dataframe\">\n",
       "  <thead>\n",
       "    <tr style=\"text-align: right;\">\n",
       "      <th></th>\n",
       "      <th>Driver_ID</th>\n",
       "      <th>MMM-YY</th>\n",
       "      <th>Age</th>\n",
       "      <th>Gender</th>\n",
       "      <th>City</th>\n",
       "      <th>Education_Level</th>\n",
       "      <th>Income</th>\n",
       "      <th>Dateofjoining</th>\n",
       "      <th>LastWorkingDate</th>\n",
       "      <th>Joining Designation</th>\n",
       "      <th>Grade</th>\n",
       "      <th>Total Business Value</th>\n",
       "      <th>Quarterly Rating</th>\n",
       "      <th>target</th>\n",
       "      <th>increment_income</th>\n",
       "      <th>rating_improved</th>\n",
       "      <th>Lastworkingyear</th>\n",
       "      <th>JoiningMonth</th>\n",
       "      <th>JoiningYear</th>\n",
       "      <th>Lastworkingmonth</th>\n",
       "    </tr>\n",
       "  </thead>\n",
       "  <tbody>\n",
       "    <tr>\n",
       "      <th>676</th>\n",
       "      <td>793</td>\n",
       "      <td>2020-12-01</td>\n",
       "      <td>26.0</td>\n",
       "      <td>0.5</td>\n",
       "      <td>C7</td>\n",
       "      <td>2</td>\n",
       "      <td>92670</td>\n",
       "      <td>2020-10-30</td>\n",
       "      <td>NaT</td>\n",
       "      <td>3</td>\n",
       "      <td>3</td>\n",
       "      <td>127800</td>\n",
       "      <td>1</td>\n",
       "      <td>0</td>\n",
       "      <td>0</td>\n",
       "      <td>0</td>\n",
       "      <td>NaN</td>\n",
       "      <td>10</td>\n",
       "      <td>2020</td>\n",
       "      <td>NaN</td>\n",
       "    </tr>\n",
       "  </tbody>\n",
       "</table>\n",
       "</div>"
      ],
      "text/plain": [
       "     Driver_ID     MMM-YY   Age  Gender City  Education_Level  Income  \\\n",
       "676        793 2020-12-01  26.0     0.5   C7                2   92670   \n",
       "\n",
       "    Dateofjoining LastWorkingDate  Joining Designation  Grade  \\\n",
       "676    2020-10-30             NaT                    3      3   \n",
       "\n",
       "     Total Business Value  Quarterly Rating  target  increment_income  \\\n",
       "676                127800                 1       0                 0   \n",
       "\n",
       "     rating_improved  Lastworkingyear  JoiningMonth  JoiningYear  \\\n",
       "676                0              NaN            10         2020   \n",
       "\n",
       "     Lastworkingmonth  \n",
       "676               NaN  "
      ]
     },
     "execution_count": 45,
     "metadata": {},
     "output_type": "execute_result"
    }
   ],
   "source": [
    "ola_data_final[ola_data_final['Driver_ID']==793]"
   ]
  },
  {
   "cell_type": "code",
   "execution_count": 46,
   "id": "2bea81be",
   "metadata": {},
   "outputs": [],
   "source": [
    "ola_data_final.loc[676,'Gender'] = 1.0"
   ]
  },
  {
   "cell_type": "code",
   "execution_count": 47,
   "id": "78a3b894",
   "metadata": {},
   "outputs": [
    {
     "data": {
      "text/plain": [
       "Driver_ID               2381\n",
       "MMM-YY                    24\n",
       "Age                       37\n",
       "Gender                     2\n",
       "City                      29\n",
       "Education_Level            3\n",
       "Income                  2339\n",
       "Dateofjoining            869\n",
       "LastWorkingDate          493\n",
       "Joining Designation        5\n",
       "Grade                      5\n",
       "Total Business Value    1629\n",
       "Quarterly Rating           4\n",
       "target                     2\n",
       "increment_income           2\n",
       "rating_improved            2\n",
       "Lastworkingyear            3\n",
       "JoiningMonth              12\n",
       "JoiningYear                8\n",
       "Lastworkingmonth          12\n",
       "dtype: int64"
      ]
     },
     "execution_count": 47,
     "metadata": {},
     "output_type": "execute_result"
    }
   ],
   "source": [
    "ola_data_final.nunique()"
   ]
  },
  {
   "cell_type": "code",
   "execution_count": 48,
   "id": "3efb1a40",
   "metadata": {},
   "outputs": [
    {
     "data": {
      "text/html": [
       "<div>\n",
       "<style scoped>\n",
       "    .dataframe tbody tr th:only-of-type {\n",
       "        vertical-align: middle;\n",
       "    }\n",
       "\n",
       "    .dataframe tbody tr th {\n",
       "        vertical-align: top;\n",
       "    }\n",
       "\n",
       "    .dataframe thead th {\n",
       "        text-align: right;\n",
       "    }\n",
       "</style>\n",
       "<table border=\"1\" class=\"dataframe\">\n",
       "  <thead>\n",
       "    <tr style=\"text-align: right;\">\n",
       "      <th></th>\n",
       "      <th>count</th>\n",
       "      <th>mean</th>\n",
       "      <th>std</th>\n",
       "      <th>min</th>\n",
       "      <th>25%</th>\n",
       "      <th>50%</th>\n",
       "      <th>75%</th>\n",
       "      <th>max</th>\n",
       "    </tr>\n",
       "    <tr>\n",
       "      <th>target</th>\n",
       "      <th></th>\n",
       "      <th></th>\n",
       "      <th></th>\n",
       "      <th></th>\n",
       "      <th></th>\n",
       "      <th></th>\n",
       "      <th></th>\n",
       "      <th></th>\n",
       "    </tr>\n",
       "  </thead>\n",
       "  <tbody>\n",
       "    <tr>\n",
       "      <th>0</th>\n",
       "      <td>765.0</td>\n",
       "      <td>67662.90719</td>\n",
       "      <td>29578.579157</td>\n",
       "      <td>12938.0</td>\n",
       "      <td>46131.0</td>\n",
       "      <td>64154.0</td>\n",
       "      <td>84573.00</td>\n",
       "      <td>188418.0</td>\n",
       "    </tr>\n",
       "    <tr>\n",
       "      <th>1</th>\n",
       "      <td>1616.0</td>\n",
       "      <td>55391.40099</td>\n",
       "      <td>26924.959518</td>\n",
       "      <td>10747.0</td>\n",
       "      <td>36117.5</td>\n",
       "      <td>51630.0</td>\n",
       "      <td>69816.75</td>\n",
       "      <td>167758.0</td>\n",
       "    </tr>\n",
       "  </tbody>\n",
       "</table>\n",
       "</div>"
      ],
      "text/plain": [
       "         count         mean           std      min      25%      50%  \\\n",
       "target                                                                 \n",
       "0        765.0  67662.90719  29578.579157  12938.0  46131.0  64154.0   \n",
       "1       1616.0  55391.40099  26924.959518  10747.0  36117.5  51630.0   \n",
       "\n",
       "             75%       max  \n",
       "target                      \n",
       "0       84573.00  188418.0  \n",
       "1       69816.75  167758.0  "
      ]
     },
     "execution_count": 48,
     "metadata": {},
     "output_type": "execute_result"
    }
   ],
   "source": [
    "ola_data_final.groupby('target')['Income'].describe()"
   ]
  },
  {
   "cell_type": "markdown",
   "id": "6268b521",
   "metadata": {},
   "source": [
    "__The average income for the drivers who have churned is 26924 and not churned is 29578.__"
   ]
  },
  {
   "cell_type": "code",
   "execution_count": 49,
   "id": "1e03b99b",
   "metadata": {},
   "outputs": [
    {
     "data": {
      "text/html": [
       "<div>\n",
       "<style scoped>\n",
       "    .dataframe tbody tr th:only-of-type {\n",
       "        vertical-align: middle;\n",
       "    }\n",
       "\n",
       "    .dataframe tbody tr th {\n",
       "        vertical-align: top;\n",
       "    }\n",
       "\n",
       "    .dataframe thead th {\n",
       "        text-align: right;\n",
       "    }\n",
       "</style>\n",
       "<table border=\"1\" class=\"dataframe\">\n",
       "  <thead>\n",
       "    <tr style=\"text-align: right;\">\n",
       "      <th></th>\n",
       "      <th>count</th>\n",
       "      <th>mean</th>\n",
       "      <th>std</th>\n",
       "      <th>min</th>\n",
       "      <th>25%</th>\n",
       "      <th>50%</th>\n",
       "      <th>75%</th>\n",
       "      <th>max</th>\n",
       "    </tr>\n",
       "    <tr>\n",
       "      <th>target</th>\n",
       "      <th></th>\n",
       "      <th></th>\n",
       "      <th></th>\n",
       "      <th></th>\n",
       "      <th></th>\n",
       "      <th></th>\n",
       "      <th></th>\n",
       "      <th></th>\n",
       "    </tr>\n",
       "  </thead>\n",
       "  <tbody>\n",
       "    <tr>\n",
       "      <th>0</th>\n",
       "      <td>765.0</td>\n",
       "      <td>9.620626e+06</td>\n",
       "      <td>1.323157e+07</td>\n",
       "      <td>0.0</td>\n",
       "      <td>240920.0</td>\n",
       "      <td>2636210.0</td>\n",
       "      <td>16290800.0</td>\n",
       "      <td>95331060.0</td>\n",
       "    </tr>\n",
       "    <tr>\n",
       "      <th>1</th>\n",
       "      <td>1616.0</td>\n",
       "      <td>2.203746e+06</td>\n",
       "      <td>4.717754e+06</td>\n",
       "      <td>-1385530.0</td>\n",
       "      <td>0.0</td>\n",
       "      <td>465025.0</td>\n",
       "      <td>2345702.5</td>\n",
       "      <td>60153830.0</td>\n",
       "    </tr>\n",
       "  </tbody>\n",
       "</table>\n",
       "</div>"
      ],
      "text/plain": [
       "         count          mean           std        min       25%        50%  \\\n",
       "target                                                                       \n",
       "0        765.0  9.620626e+06  1.323157e+07        0.0  240920.0  2636210.0   \n",
       "1       1616.0  2.203746e+06  4.717754e+06 -1385530.0       0.0   465025.0   \n",
       "\n",
       "               75%         max  \n",
       "target                          \n",
       "0       16290800.0  95331060.0  \n",
       "1        2345702.5  60153830.0  "
      ]
     },
     "execution_count": 49,
     "metadata": {},
     "output_type": "execute_result"
    }
   ],
   "source": [
    " ola_data_final.groupby('target')['Total Business Value'].describe()"
   ]
  },
  {
   "cell_type": "markdown",
   "id": "968f41ea",
   "metadata": {},
   "source": [
    "__The average total business value is more for people who did not churn and less for people who churned.__"
   ]
  },
  {
   "cell_type": "code",
   "execution_count": 50,
   "id": "3870f853",
   "metadata": {},
   "outputs": [
    {
     "data": {
      "text/plain": [
       "1    1616\n",
       "0     765\n",
       "Name: target, dtype: int64"
      ]
     },
     "execution_count": 50,
     "metadata": {},
     "output_type": "execute_result"
    }
   ],
   "source": [
    "ola_data_final['target'].value_counts()"
   ]
  },
  {
   "cell_type": "markdown",
   "id": "20b304b3",
   "metadata": {},
   "source": [
    "__There are 1616 drivers who churned and 765 who did not.__"
   ]
  },
  {
   "cell_type": "code",
   "execution_count": 51,
   "id": "cbc3ec74",
   "metadata": {},
   "outputs": [
    {
     "data": {
      "image/png": "[encoded data removed]",
      "text/plain": [
       "<Figure size 1200x800 with 2 Axes>"
      ]
     },
     "metadata": {},
     "output_type": "display_data"
    }
   ],
   "source": [
    "plt.figure(figsize=(12, 8))\n",
    "sns.heatmap(ola_data_final.corr(method='spearman'), annot=True, cmap='viridis')\n",
    "plt.show()"
   ]
  },
  {
   "cell_type": "markdown",
   "id": "9d908c84",
   "metadata": {},
   "source": [
    "__There is a high correlation between rating_improved(derived column) and the total business value (total business value occured by driver till the date).The joining date has a high correlation with grade and Income also has a high correlation with grade.Also, we can see that the quarterly rating is highly correlated with the target variable. If it is high, the driver may not churn.This is important for the model__"
   ]
  },
  {
   "cell_type": "markdown",
   "id": "d5a42c64",
   "metadata": {},
   "source": [
    "__Univariate plots__"
   ]
  },
  {
   "cell_type": "code",
   "execution_count": 52,
   "id": "d46d671e",
   "metadata": {},
   "outputs": [
    {
     "data": {
      "image/png": "[encoded data removed]",
      "text/plain": [
       "<Figure size 1500x2000 with 4 Axes>"
      ]
     },
     "metadata": {},
     "output_type": "display_data"
    }
   ],
   "source": [
    "plt.figure(figsize=(15, 20))\n",
    "\n",
    "plt.subplot(4, 2, 1)\n",
    "sns.countplot(x='Gender', data=ola_data_final,palette='muted')\n",
    "plt.title('Gender distribution')\n",
    "\n",
    "plt.subplot(4, 2, 2)\n",
    "sns.countplot(x='increment_income', data=ola_data_final, palette='muted')\n",
    "plt.title('Increment_income distribution')\n",
    "\n",
    "plt.subplot(4, 2, 3)\n",
    "sns.countplot(x='rating_improved', data=ola_data_final, palette='muted')\n",
    "plt.title('Rating_improved distribution')\n",
    "\n",
    "plt.subplot(4, 2, 4)\n",
    "sns.countplot(x='target', data=ola_data_final,palette='muted')\n",
    "plt.title('Target distribution')\n",
    "plt.show()"
   ]
  },
  {
   "cell_type": "markdown",
   "id": "01dd13c6",
   "metadata": {},
   "source": [
    "1. There are more male drivers(around 1400).\n",
    "2. Only for few drivers the income has increased.\n",
    "3. The quarterly rating has increased for around 1100 drivers and has remained constant for around 1250 drivers.\n",
    "4. There are more drivers who churned."
   ]
  },
  {
   "cell_type": "code",
   "execution_count": 53,
   "id": "7fcdb5ad",
   "metadata": {},
   "outputs": [
    {
     "data": {
      "image/png": "[encoded data removed]",
      "text/plain": [
       "<Figure size 1500x2000 with 4 Axes>"
      ]
     },
     "metadata": {},
     "output_type": "display_data"
    }
   ],
   "source": [
    "plt.figure(figsize=(15, 20))\n",
    "\n",
    "plt.subplot(4, 2, 1)\n",
    "sns.countplot(x='Gender', data=ola_data_final,hue='target',palette='BuGn_r')\n",
    "plt.title('Gender w.r.t target')\n",
    "\n",
    "plt.subplot(4, 2, 2)\n",
    "sns.countplot(x='increment_income', data=ola_data_final, hue='target',palette='BuGn_r')\n",
    "plt.title('Increment_income w.r.t target')\n",
    "\n",
    "plt.subplot(4, 2, 3)\n",
    "sns.countplot(x='rating_improved', data=ola_data_final,hue='target', palette='BuGn_r')\n",
    "plt.title('Rating_improved w.r.t target')\n",
    "\n",
    "plt.subplot(4, 2, 4)\n",
    "sns.countplot(x='Education_Level', data=ola_data_final,hue='target',palette='BuGn_r')\n",
    "plt.title('Education_level w.r.t target')\n",
    "plt.show()"
   ]
  },
  {
   "cell_type": "markdown",
   "id": "9cec4752",
   "metadata": {},
   "source": [
    "1. Male drivers have churned more than the female drivers.\n",
    "2. All of the drivers who have churned belong to the category of income not increased from the date of joining.The drivers for whom the income has increased did not churn.\n",
    "3. The drivers whose rating has not increased have churned more than the drivers whose rating has been increased.\n",
    "4. The number of drivers who churned is equally distributed among the education_level. This means that the target and education_level are less related.We can remove the education_level column as it is not giving any useful insight."
   ]
  },
  {
   "cell_type": "code",
   "execution_count": 54,
   "id": "956db2ed",
   "metadata": {},
   "outputs": [
    {
     "data": {
      "image/png": "[encoded data removed]",
      "text/plain": [
       "<Figure size 1500x2000 with 2 Axes>"
      ]
     },
     "metadata": {},
     "output_type": "display_data"
    }
   ],
   "source": [
    "plt.figure(figsize=(15, 20))\n",
    "\n",
    "plt.subplot(4, 2, 1)\n",
    "sns.distplot(ola_data_final['Income'],kde=True)\n",
    "plt.title('Income')\n",
    "\n",
    "plt.subplot(4, 2, 2)\n",
    "sns.distplot(ola_data_final['Total Business Value'],kde=True)\n",
    "plt.title('Business value')\n",
    "plt.show()"
   ]
  },
  {
   "cell_type": "code",
   "execution_count": 55,
   "id": "75378ec5",
   "metadata": {},
   "outputs": [
    {
     "data": {
      "text/plain": [
       "7     296\n",
       "5     276\n",
       "10    269\n",
       "11    253\n",
       "6     230\n",
       "8     224\n",
       "9     222\n",
       "12    210\n",
       "1     164\n",
       "4     104\n",
       "2      76\n",
       "3      57\n",
       "Name: JoiningMonth, dtype: int64"
      ]
     },
     "execution_count": 55,
     "metadata": {},
     "output_type": "execute_result"
    }
   ],
   "source": [
    "ola_data_final['JoiningMonth'].value_counts()"
   ]
  },
  {
   "cell_type": "code",
   "execution_count": 56,
   "id": "80fc75b1",
   "metadata": {},
   "outputs": [
    {
     "data": {
      "text/plain": [
       "2020    818\n",
       "2018    599\n",
       "2019    591\n",
       "2015    109\n",
       "2016    108\n",
       "2017     86\n",
       "2013     41\n",
       "2014     29\n",
       "Name: JoiningYear, dtype: int64"
      ]
     },
     "execution_count": 56,
     "metadata": {},
     "output_type": "execute_result"
    }
   ],
   "source": [
    "ola_data_final['JoiningYear'].value_counts()"
   ]
  },
  {
   "cell_type": "markdown",
   "id": "75ba811e",
   "metadata": {},
   "source": [
    "Many drivers have joined in the month of July. There were many drivers who joined in the year 2020."
   ]
  },
  {
   "cell_type": "code",
   "execution_count": 57,
   "id": "ba5ed94c",
   "metadata": {},
   "outputs": [
    {
     "data": {
      "text/plain": [
       "2019.0    825\n",
       "2020.0    786\n",
       "2018.0      5\n",
       "Name: Lastworkingyear, dtype: int64"
      ]
     },
     "execution_count": 57,
     "metadata": {},
     "output_type": "execute_result"
    }
   ],
   "source": [
    "ola_data_final['Lastworkingyear'].value_counts()"
   ]
  },
  {
   "cell_type": "markdown",
   "id": "1fef2c4d",
   "metadata": {},
   "source": [
    "__There are many drivers who have churned in the year 2019.__"
   ]
  },
  {
   "cell_type": "code",
   "execution_count": 58,
   "id": "153a7339",
   "metadata": {},
   "outputs": [
    {
     "data": {
      "text/plain": [
       "<AxesSubplot:xlabel='Joining Designation', ylabel='count'>"
      ]
     },
     "execution_count": 58,
     "metadata": {},
     "output_type": "execute_result"
    },
    {
     "data": {
      "image/png": "[encoded data removed]",
      "text/plain": [
       "<Figure size 640x480 with 1 Axes>"
      ]
     },
     "metadata": {},
     "output_type": "display_data"
    }
   ],
   "source": [
    "sns.countplot(x='Joining Designation', data=ola_data_final,hue='target',palette='BuGn_r')"
   ]
  },
  {
   "cell_type": "code",
   "execution_count": 59,
   "id": "e2589801",
   "metadata": {},
   "outputs": [
    {
     "data": {
      "image/png": "[encoded data removed]",
      "text/plain": [
       "<Figure size 640x480 with 1 Axes>"
      ]
     },
     "metadata": {},
     "output_type": "display_data"
    }
   ],
   "source": [
    "sns.boxplot(x='target',y='Income',data=ola_data_final,palette='BuGn_r')\n",
    "plt.show()"
   ]
  },
  {
   "cell_type": "code",
   "execution_count": 60,
   "id": "a0c92de5",
   "metadata": {},
   "outputs": [
    {
     "data": {
      "image/png": "[encoded data removed]",
      "text/plain": [
       "<Figure size 640x480 with 1 Axes>"
      ]
     },
     "metadata": {},
     "output_type": "display_data"
    }
   ],
   "source": [
    "sns.boxplot(x='target',y='Age',data=ola_data_final,palette='BuGn_r')\n",
    "plt.show()"
   ]
  },
  {
   "cell_type": "markdown",
   "id": "17611c3b",
   "metadata": {},
   "source": [
    "__There is slight difference in the age between the drivers who churned and who did not. For the drivers who churned the median age is slightly higher.__"
   ]
  },
  {
   "cell_type": "code",
   "execution_count": 61,
   "id": "09f52756",
   "metadata": {},
   "outputs": [],
   "source": [
    "## one hot encoding\n",
    "ola_data_final = pd.get_dummies(ola_data_final, columns=['City'], drop_first=True)"
   ]
  },
  {
   "cell_type": "code",
   "execution_count": 62,
   "id": "2ec163bd",
   "metadata": {},
   "outputs": [
    {
     "data": {
      "text/html": [
       "<div>\n",
       "<style scoped>\n",
       "    .dataframe tbody tr th:only-of-type {\n",
       "        vertical-align: middle;\n",
       "    }\n",
       "\n",
       "    .dataframe tbody tr th {\n",
       "        vertical-align: top;\n",
       "    }\n",
       "\n",
       "    .dataframe thead th {\n",
       "        text-align: right;\n",
       "    }\n",
       "</style>\n",
       "<table border=\"1\" class=\"dataframe\">\n",
       "  <thead>\n",
       "    <tr style=\"text-align: right;\">\n",
       "      <th></th>\n",
       "      <th>Driver_ID</th>\n",
       "      <th>MMM-YY</th>\n",
       "      <th>Age</th>\n",
       "      <th>Gender</th>\n",
       "      <th>Education_Level</th>\n",
       "      <th>Income</th>\n",
       "      <th>Dateofjoining</th>\n",
       "      <th>LastWorkingDate</th>\n",
       "      <th>Joining Designation</th>\n",
       "      <th>Grade</th>\n",
       "      <th>...</th>\n",
       "      <th>City_C27</th>\n",
       "      <th>City_C28</th>\n",
       "      <th>City_C29</th>\n",
       "      <th>City_C3</th>\n",
       "      <th>City_C4</th>\n",
       "      <th>City_C5</th>\n",
       "      <th>City_C6</th>\n",
       "      <th>City_C7</th>\n",
       "      <th>City_C8</th>\n",
       "      <th>City_C9</th>\n",
       "    </tr>\n",
       "  </thead>\n",
       "  <tbody>\n",
       "    <tr>\n",
       "      <th>0</th>\n",
       "      <td>1</td>\n",
       "      <td>2019-03-01</td>\n",
       "      <td>28.0</td>\n",
       "      <td>0.0</td>\n",
       "      <td>2</td>\n",
       "      <td>57387</td>\n",
       "      <td>2018-12-24</td>\n",
       "      <td>2019-03-11</td>\n",
       "      <td>1</td>\n",
       "      <td>1</td>\n",
       "      <td>...</td>\n",
       "      <td>0</td>\n",
       "      <td>0</td>\n",
       "      <td>0</td>\n",
       "      <td>0</td>\n",
       "      <td>0</td>\n",
       "      <td>0</td>\n",
       "      <td>0</td>\n",
       "      <td>0</td>\n",
       "      <td>0</td>\n",
       "      <td>0</td>\n",
       "    </tr>\n",
       "    <tr>\n",
       "      <th>1</th>\n",
       "      <td>2</td>\n",
       "      <td>2020-12-01</td>\n",
       "      <td>31.0</td>\n",
       "      <td>0.0</td>\n",
       "      <td>2</td>\n",
       "      <td>67016</td>\n",
       "      <td>2020-11-06</td>\n",
       "      <td>NaT</td>\n",
       "      <td>2</td>\n",
       "      <td>2</td>\n",
       "      <td>...</td>\n",
       "      <td>0</td>\n",
       "      <td>0</td>\n",
       "      <td>0</td>\n",
       "      <td>0</td>\n",
       "      <td>0</td>\n",
       "      <td>0</td>\n",
       "      <td>0</td>\n",
       "      <td>1</td>\n",
       "      <td>0</td>\n",
       "      <td>0</td>\n",
       "    </tr>\n",
       "    <tr>\n",
       "      <th>2</th>\n",
       "      <td>4</td>\n",
       "      <td>2020-04-01</td>\n",
       "      <td>43.0</td>\n",
       "      <td>0.0</td>\n",
       "      <td>2</td>\n",
       "      <td>65603</td>\n",
       "      <td>2019-12-07</td>\n",
       "      <td>2020-04-27</td>\n",
       "      <td>2</td>\n",
       "      <td>2</td>\n",
       "      <td>...</td>\n",
       "      <td>0</td>\n",
       "      <td>0</td>\n",
       "      <td>0</td>\n",
       "      <td>0</td>\n",
       "      <td>0</td>\n",
       "      <td>0</td>\n",
       "      <td>0</td>\n",
       "      <td>0</td>\n",
       "      <td>0</td>\n",
       "      <td>0</td>\n",
       "    </tr>\n",
       "    <tr>\n",
       "      <th>3</th>\n",
       "      <td>5</td>\n",
       "      <td>2019-03-01</td>\n",
       "      <td>29.0</td>\n",
       "      <td>0.0</td>\n",
       "      <td>0</td>\n",
       "      <td>46368</td>\n",
       "      <td>2019-01-09</td>\n",
       "      <td>2019-03-07</td>\n",
       "      <td>1</td>\n",
       "      <td>1</td>\n",
       "      <td>...</td>\n",
       "      <td>0</td>\n",
       "      <td>0</td>\n",
       "      <td>0</td>\n",
       "      <td>0</td>\n",
       "      <td>0</td>\n",
       "      <td>0</td>\n",
       "      <td>0</td>\n",
       "      <td>0</td>\n",
       "      <td>0</td>\n",
       "      <td>1</td>\n",
       "    </tr>\n",
       "    <tr>\n",
       "      <th>4</th>\n",
       "      <td>6</td>\n",
       "      <td>2020-12-01</td>\n",
       "      <td>31.0</td>\n",
       "      <td>1.0</td>\n",
       "      <td>1</td>\n",
       "      <td>78728</td>\n",
       "      <td>2020-07-31</td>\n",
       "      <td>NaT</td>\n",
       "      <td>3</td>\n",
       "      <td>3</td>\n",
       "      <td>...</td>\n",
       "      <td>0</td>\n",
       "      <td>0</td>\n",
       "      <td>0</td>\n",
       "      <td>0</td>\n",
       "      <td>0</td>\n",
       "      <td>0</td>\n",
       "      <td>0</td>\n",
       "      <td>0</td>\n",
       "      <td>0</td>\n",
       "      <td>0</td>\n",
       "    </tr>\n",
       "  </tbody>\n",
       "</table>\n",
       "<p>5 rows × 47 columns</p>\n",
       "</div>"
      ],
      "text/plain": [
       "   Driver_ID     MMM-YY   Age  Gender  Education_Level  Income Dateofjoining  \\\n",
       "0          1 2019-03-01  28.0     0.0                2   57387    2018-12-24   \n",
       "1          2 2020-12-01  31.0     0.0                2   67016    2020-11-06   \n",
       "2          4 2020-04-01  43.0     0.0                2   65603    2019-12-07   \n",
       "3          5 2019-03-01  29.0     0.0                0   46368    2019-01-09   \n",
       "4          6 2020-12-01  31.0     1.0                1   78728    2020-07-31   \n",
       "\n",
       "  LastWorkingDate  Joining Designation  Grade  ...  City_C27  City_C28  \\\n",
       "0      2019-03-11                    1      1  ...         0         0   \n",
       "1             NaT                    2      2  ...         0         0   \n",
       "2      2020-04-27                    2      2  ...         0         0   \n",
       "3      2019-03-07                    1      1  ...         0         0   \n",
       "4             NaT                    3      3  ...         0         0   \n",
       "\n",
       "   City_C29  City_C3  City_C4  City_C5  City_C6  City_C7  City_C8  City_C9  \n",
       "0         0        0        0        0        0        0        0        0  \n",
       "1         0        0        0        0        0        1        0        0  \n",
       "2         0        0        0        0        0        0        0        0  \n",
       "3         0        0        0        0        0        0        0        1  \n",
       "4         0        0        0        0        0        0        0        0  \n",
       "\n",
       "[5 rows x 47 columns]"
      ]
     },
     "execution_count": 62,
     "metadata": {},
     "output_type": "execute_result"
    }
   ],
   "source": [
    "ola_data_final.head()"
   ]
  },
  {
   "cell_type": "code",
   "execution_count": 63,
   "id": "711b3d5a",
   "metadata": {},
   "outputs": [],
   "source": [
    "ola_data_final.drop(columns=['LastWorkingDate','MMM-YY','Dateofjoining','Lastworkingyear','Lastworkingmonth'],axis=1,inplace=True)"
   ]
  },
  {
   "cell_type": "code",
   "execution_count": 64,
   "id": "57f2786e",
   "metadata": {},
   "outputs": [],
   "source": [
    "ola_data_final['Gender'] = ola_data_final['Gender'].astype('int')"
   ]
  },
  {
   "cell_type": "code",
   "execution_count": 65,
   "id": "80d4e410",
   "metadata": {},
   "outputs": [
    {
     "data": {
      "text/plain": [
       "0    1404\n",
       "1     977\n",
       "Name: Gender, dtype: int64"
      ]
     },
     "execution_count": 65,
     "metadata": {},
     "output_type": "execute_result"
    }
   ],
   "source": [
    "ola_data_final['Gender'].value_counts()"
   ]
  },
  {
   "cell_type": "code",
   "execution_count": 66,
   "id": "c7c5ecac",
   "metadata": {},
   "outputs": [],
   "source": [
    "ola_data_final['increment_income'] = ola_data_final['increment_income'].astype('int')\n",
    "ola_data_final['rating_improved'] = ola_data_final['rating_improved'].astype('int')"
   ]
  },
  {
   "cell_type": "code",
   "execution_count": 67,
   "id": "f2b6ef76",
   "metadata": {},
   "outputs": [
    {
     "data": {
      "text/plain": [
       "Driver_ID                 int64\n",
       "Age                     float64\n",
       "Gender                    int32\n",
       "Education_Level           int64\n",
       "Income                    int64\n",
       "Joining Designation       int64\n",
       "Grade                     int64\n",
       "Total Business Value      int64\n",
       "Quarterly Rating          int64\n",
       "target                    int64\n",
       "increment_income          int32\n",
       "rating_improved           int32\n",
       "JoiningMonth              int64\n",
       "JoiningYear               int64\n",
       "City_C10                  uint8\n",
       "City_C11                  uint8\n",
       "City_C12                  uint8\n",
       "City_C13                  uint8\n",
       "City_C14                  uint8\n",
       "City_C15                  uint8\n",
       "City_C16                  uint8\n",
       "City_C17                  uint8\n",
       "City_C18                  uint8\n",
       "City_C19                  uint8\n",
       "City_C2                   uint8\n",
       "City_C20                  uint8\n",
       "City_C21                  uint8\n",
       "City_C22                  uint8\n",
       "City_C23                  uint8\n",
       "City_C24                  uint8\n",
       "City_C25                  uint8\n",
       "City_C26                  uint8\n",
       "City_C27                  uint8\n",
       "City_C28                  uint8\n",
       "City_C29                  uint8\n",
       "City_C3                   uint8\n",
       "City_C4                   uint8\n",
       "City_C5                   uint8\n",
       "City_C6                   uint8\n",
       "City_C7                   uint8\n",
       "City_C8                   uint8\n",
       "City_C9                   uint8\n",
       "dtype: object"
      ]
     },
     "execution_count": 67,
     "metadata": {},
     "output_type": "execute_result"
    }
   ],
   "source": [
    "ola_data_final.dtypes"
   ]
  },
  {
   "cell_type": "code",
   "execution_count": 68,
   "id": "d85fdad3",
   "metadata": {},
   "outputs": [],
   "source": [
    "##Splitting the data into train and test\n",
    "X= ola_data_final.drop(['target','Driver_ID'],axis=1)\n",
    "y=ola_data_final['target']"
   ]
  },
  {
   "cell_type": "code",
   "execution_count": 69,
   "id": "46476185",
   "metadata": {},
   "outputs": [],
   "source": [
    "from sklearn.model_selection import train_test_split\n",
    "X_train, X_test, y_train, y_test = train_test_split(X, y, test_size=0.30, \n",
    "                                                    stratify=y, random_state=42)"
   ]
  },
  {
   "cell_type": "markdown",
   "id": "d1403257",
   "metadata": {},
   "source": [
    "__Building ensemble bagging model without any hyperparameter tuning or oversampling__"
   ]
  },
  {
   "cell_type": "code",
   "execution_count": 70,
   "id": "f9047663",
   "metadata": {},
   "outputs": [
    {
     "data": {
      "text/plain": [
       "BaggingClassifier(base_estimator=DecisionTreeClassifier(max_depth=3,\n",
       "                                                        random_state=23),\n",
       "                  n_estimators=7)"
      ]
     },
     "execution_count": 70,
     "metadata": {},
     "output_type": "execute_result"
    }
   ],
   "source": [
    "from sklearn.tree import DecisionTreeClassifier\n",
    "dtree = DecisionTreeClassifier(max_depth=3,random_state=23)\n",
    "from sklearn.ensemble import BaggingClassifier\n",
    "bagging = BaggingClassifier(base_estimator=dtree,n_estimators=7,bootstrap=True)\n",
    "bagging.fit(X_train,y_train)"
   ]
  },
  {
   "cell_type": "code",
   "execution_count": 71,
   "id": "199b8854",
   "metadata": {},
   "outputs": [
    {
     "name": "stdout",
     "output_type": "stream",
     "text": [
      "Train score: 0.8895558223289316\n",
      "Test Score: 0.8895104895104895\n"
     ]
    }
   ],
   "source": [
    "print(f\"Train score: {bagging.score(X_train,y_train)}\")\n",
    "print(f\"Test Score: {bagging.score(X_test,y_test)}\")"
   ]
  },
  {
   "cell_type": "markdown",
   "id": "d05178dd",
   "metadata": {},
   "source": [
    "__Hyperparametertuning for bagging classifier__"
   ]
  },
  {
   "cell_type": "code",
   "execution_count": 72,
   "id": "823b0afd",
   "metadata": {},
   "outputs": [],
   "source": [
    "dtree_base = DecisionTreeClassifier()"
   ]
  },
  {
   "cell_type": "code",
   "execution_count": 73,
   "id": "22493855",
   "metadata": {},
   "outputs": [],
   "source": [
    "bagging1 = BaggingClassifier(base_estimator=dtree_base,bootstrap=True)"
   ]
  },
  {
   "cell_type": "code",
   "execution_count": 74,
   "id": "af84b0e4",
   "metadata": {},
   "outputs": [],
   "source": [
    "param_grid= {\"base_estimator__max_depth\" : [1,2,3,4,5],\n",
    "            \"n_estimators\" : [10,30,40,50],\n",
    "            \"max_samples\" : [0.05,0.1,0.2,0.5],\n",
    "            \"max_features\" : [0.2,0.3,0.5]}"
   ]
  },
  {
   "cell_type": "code",
   "execution_count": 75,
   "id": "17992668",
   "metadata": {},
   "outputs": [],
   "source": [
    "#performing the hyperparameter tuning using gridsearchcv\n",
    "from sklearn.model_selection import KFold\n",
    "from sklearn.model_selection import GridSearchCV\n",
    "from sklearn.model_selection import cross_val_score\n",
    "folds= 3\n",
    "grid_search_tree = GridSearchCV(bagging1, \n",
    "                               cv = folds,\n",
    "                               param_grid=param_grid, \n",
    "                               scoring = 'roc_auc', \n",
    "                               return_train_score=True,                         \n",
    "                               verbose = 1)"
   ]
  },
  {
   "cell_type": "code",
   "execution_count": 76,
   "id": "86153a0c",
   "metadata": {},
   "outputs": [
    {
     "name": "stdout",
     "output_type": "stream",
     "text": [
      "Fitting 3 folds for each of 240 candidates, totalling 720 fits\n"
     ]
    },
    {
     "data": {
      "text/plain": [
       "GridSearchCV(cv=3,\n",
       "             estimator=BaggingClassifier(base_estimator=DecisionTreeClassifier()),\n",
       "             param_grid={'base_estimator__max_depth': [1, 2, 3, 4, 5],\n",
       "                         'max_features': [0.2, 0.3, 0.5],\n",
       "                         'max_samples': [0.05, 0.1, 0.2, 0.5],\n",
       "                         'n_estimators': [10, 30, 40, 50]},\n",
       "             return_train_score=True, scoring='roc_auc', verbose=1)"
      ]
     },
     "execution_count": 76,
     "metadata": {},
     "output_type": "execute_result"
    }
   ],
   "source": [
    "grid_search_tree.fit(X_train,y_train)"
   ]
  },
  {
   "cell_type": "code",
   "execution_count": 77,
   "id": "8cdcee19",
   "metadata": {},
   "outputs": [
    {
     "name": "stdout",
     "output_type": "stream",
     "text": [
      "{'base_estimator__max_depth': 5, 'max_features': 0.5, 'max_samples': 0.5, 'n_estimators': 30}\n"
     ]
    }
   ],
   "source": [
    "print(grid_search_tree.best_params_)"
   ]
  },
  {
   "cell_type": "code",
   "execution_count": 78,
   "id": "a83eb745",
   "metadata": {},
   "outputs": [],
   "source": [
    "#using the best params\n",
    "dtree_base1 = DecisionTreeClassifier(max_depth=4)\n",
    "bagging2 = BaggingClassifier(base_estimator=dtree_base1,bootstrap=True,max_features=0.5,max_samples=0.5,n_estimators=40)"
   ]
  },
  {
   "cell_type": "code",
   "execution_count": 79,
   "id": "a7ec837d",
   "metadata": {},
   "outputs": [
    {
     "data": {
      "text/plain": [
       "BaggingClassifier(base_estimator=DecisionTreeClassifier(max_depth=4),\n",
       "                  max_features=0.5, max_samples=0.5, n_estimators=40)"
      ]
     },
     "execution_count": 79,
     "metadata": {},
     "output_type": "execute_result"
    }
   ],
   "source": [
    "bagging2.fit(X_train,y_train)"
   ]
  },
  {
   "cell_type": "code",
   "execution_count": 80,
   "id": "6ef2dc57",
   "metadata": {},
   "outputs": [],
   "source": [
    "y_pred = bagging2.predict(X_test)"
   ]
  },
  {
   "cell_type": "code",
   "execution_count": 81,
   "id": "94fc8aaa",
   "metadata": {},
   "outputs": [
    {
     "name": "stdout",
     "output_type": "stream",
     "text": [
      "0.848951048951049\n"
     ]
    }
   ],
   "source": [
    "print(bagging2.score(X_test,y_test))"
   ]
  },
  {
   "cell_type": "code",
   "execution_count": 82,
   "id": "0c42a903",
   "metadata": {},
   "outputs": [
    {
     "data": {
      "image/png": "[encoded data removed]",
      "text/plain": [
       "<Figure size 640x480 with 1 Axes>"
      ]
     },
     "metadata": {},
     "output_type": "display_data"
    }
   ],
   "source": [
    "from sklearn import metrics\n",
    "y_pred_prob = bagging2.predict_proba(X_test)[:,1]\n",
    "fpr, tpr, _ = metrics.roc_curve(y_test,  y_pred_prob)\n",
    "plt.plot(fpr,tpr)\n",
    "plt.ylabel('True Positive Rate')\n",
    "plt.xlabel('False Positive Rate')\n",
    "plt.show()"
   ]
  },
  {
   "cell_type": "code",
   "execution_count": 83,
   "id": "4a496996",
   "metadata": {},
   "outputs": [
    {
     "data": {
      "text/plain": [
       "0.9297131331241597"
      ]
     },
     "execution_count": 83,
     "metadata": {},
     "output_type": "execute_result"
    }
   ],
   "source": [
    "auc = metrics.roc_auc_score(y_test, y_pred_prob)\n",
    "auc"
   ]
  },
  {
   "cell_type": "markdown",
   "id": "80e7422f",
   "metadata": {},
   "source": [
    "__The roc_auc curve looks good as it is almost touching the left corner which means that the tpr is high and fpr is relatively low for a thershold. And the area is 0.94 which is a good score.__"
   ]
  },
  {
   "cell_type": "code",
   "execution_count": 84,
   "id": "70cbb14b",
   "metadata": {},
   "outputs": [
    {
     "name": "stdout",
     "output_type": "stream",
     "text": [
      "              precision    recall  f1-score   support\n",
      "\n",
      "           0       0.88      0.61      0.72       230\n",
      "           1       0.84      0.96      0.90       485\n",
      "\n",
      "    accuracy                           0.85       715\n",
      "   macro avg       0.86      0.79      0.81       715\n",
      "weighted avg       0.85      0.85      0.84       715\n",
      "\n"
     ]
    }
   ],
   "source": [
    "from sklearn.metrics import classification_report\n",
    "print(classification_report(y_test,y_pred))"
   ]
  },
  {
   "cell_type": "markdown",
   "id": "e4f2675f",
   "metadata": {},
   "source": [
    "__The f1 score 0.90 is pretty good.This says the precision and recall are well balanced.__"
   ]
  },
  {
   "cell_type": "markdown",
   "id": "76b25c15",
   "metadata": {},
   "source": [
    "### Boosting"
   ]
  },
  {
   "cell_type": "code",
   "execution_count": 85,
   "id": "eba4bacb",
   "metadata": {},
   "outputs": [],
   "source": [
    "## Gradient boosting classifier\n",
    "from sklearn.ensemble import GradientBoostingClassifier\n",
    "param_grid = {\"max_depth\" : [1,2,3,4,5],\n",
    "              \"n_estimators\": [30,50,70,100,200],\n",
    "              \"learning_rate\":[0.1,0.3,0.5,0.7,1.0]\n",
    "             }\n",
    "gb = GradientBoostingClassifier()\n",
    "folds= 3\n",
    "grid_search_tree_boost1 = GridSearchCV(gb, \n",
    "                               cv = folds,\n",
    "                               param_grid=param_grid, \n",
    "                               scoring = 'roc_auc', \n",
    "                               return_train_score=True,                         \n",
    "                               verbose = 1)\n",
    "\n"
   ]
  },
  {
   "cell_type": "code",
   "execution_count": 86,
   "id": "40b6e263",
   "metadata": {},
   "outputs": [
    {
     "name": "stdout",
     "output_type": "stream",
     "text": [
      "Fitting 3 folds for each of 125 candidates, totalling 375 fits\n"
     ]
    },
    {
     "data": {
      "text/plain": [
       "GridSearchCV(cv=3, estimator=GradientBoostingClassifier(),\n",
       "             param_grid={'learning_rate': [0.1, 0.3, 0.5, 0.7, 1.0],\n",
       "                         'max_depth': [1, 2, 3, 4, 5],\n",
       "                         'n_estimators': [30, 50, 70, 100, 200]},\n",
       "             return_train_score=True, scoring='roc_auc', verbose=1)"
      ]
     },
     "execution_count": 86,
     "metadata": {},
     "output_type": "execute_result"
    }
   ],
   "source": [
    "grid_search_tree_boost1.fit(X_train,y_train)"
   ]
  },
  {
   "cell_type": "code",
   "execution_count": 87,
   "id": "c585ebba",
   "metadata": {},
   "outputs": [
    {
     "name": "stdout",
     "output_type": "stream",
     "text": [
      "{'learning_rate': 0.1, 'max_depth': 2, 'n_estimators': 100}\n"
     ]
    }
   ],
   "source": [
    "print(grid_search_tree_boost1.best_params_)"
   ]
  },
  {
   "cell_type": "code",
   "execution_count": 88,
   "id": "e9a1c739",
   "metadata": {},
   "outputs": [],
   "source": [
    "gb_best = GradientBoostingClassifier(learning_rate=0.1,max_depth=2,n_estimators=100)"
   ]
  },
  {
   "cell_type": "code",
   "execution_count": 89,
   "id": "4ae99532",
   "metadata": {},
   "outputs": [
    {
     "data": {
      "text/plain": [
       "GradientBoostingClassifier(max_depth=2)"
      ]
     },
     "execution_count": 89,
     "metadata": {},
     "output_type": "execute_result"
    }
   ],
   "source": [
    "gb_best.fit(X_train,y_train)"
   ]
  },
  {
   "cell_type": "code",
   "execution_count": 90,
   "id": "ec5d7855",
   "metadata": {},
   "outputs": [],
   "source": [
    "y_pred_gb= gb_best.predict(X_test)"
   ]
  },
  {
   "cell_type": "code",
   "execution_count": 91,
   "id": "eb7f8b4b",
   "metadata": {},
   "outputs": [
    {
     "name": "stdout",
     "output_type": "stream",
     "text": [
      "0.9141656662665066\n"
     ]
    }
   ],
   "source": [
    "print(gb_best.score(X_train,y_train))"
   ]
  },
  {
   "cell_type": "code",
   "execution_count": 92,
   "id": "3a775bf1",
   "metadata": {},
   "outputs": [
    {
     "name": "stdout",
     "output_type": "stream",
     "text": [
      "0.9272727272727272\n"
     ]
    }
   ],
   "source": [
    "print(gb_best.score(X_test,y_test))"
   ]
  },
  {
   "cell_type": "code",
   "execution_count": 93,
   "id": "0c8e5b6a",
   "metadata": {},
   "outputs": [
    {
     "data": {
      "image/png": "[encoded data removed]",
      "text/plain": [
       "<Figure size 640x480 with 1 Axes>"
      ]
     },
     "metadata": {},
     "output_type": "display_data"
    }
   ],
   "source": [
    "from sklearn import metrics\n",
    "y_pred_prob_gb = gb_best.predict_proba(X_test)[:,1]\n",
    "fpr, tpr, _ = metrics.roc_curve(y_test,  y_pred_prob_gb)\n",
    "plt.plot(fpr,tpr)\n",
    "plt.ylabel('True Positive Rate')\n",
    "plt.xlabel('False Positive Rate')\n",
    "plt.show()"
   ]
  },
  {
   "cell_type": "code",
   "execution_count": 94,
   "id": "7cf43595",
   "metadata": {},
   "outputs": [
    {
     "data": {
      "text/plain": [
       "0.9642626624831915"
      ]
     },
     "execution_count": 94,
     "metadata": {},
     "output_type": "execute_result"
    }
   ],
   "source": [
    "auc = metrics.roc_auc_score(y_test, y_pred_prob_gb)\n",
    "auc"
   ]
  },
  {
   "cell_type": "code",
   "execution_count": 95,
   "id": "d9043ad5",
   "metadata": {},
   "outputs": [
    {
     "name": "stdout",
     "output_type": "stream",
     "text": [
      "              precision    recall  f1-score   support\n",
      "\n",
      "           0       0.91      0.86      0.88       230\n",
      "           1       0.93      0.96      0.95       485\n",
      "\n",
      "    accuracy                           0.93       715\n",
      "   macro avg       0.92      0.91      0.92       715\n",
      "weighted avg       0.93      0.93      0.93       715\n",
      "\n"
     ]
    }
   ],
   "source": [
    "print(classification_report(y_test,y_pred_gb))"
   ]
  },
  {
   "cell_type": "markdown",
   "id": "65c1d731",
   "metadata": {},
   "source": [
    "__We can see that the metrics improved when compared to bagging. In boosting, the auc score came out to be 0.96 and f1 score 0.93.__"
   ]
  },
  {
   "cell_type": "code",
   "execution_count": 96,
   "id": "41944e31",
   "metadata": {},
   "outputs": [],
   "source": [
    "##ADABOOST\n",
    "from sklearn.ensemble import AdaBoostClassifier\n",
    "param_grid = {\"base_estimator__max_depth\" : [1,2,3,4,5],\n",
    "              \"n_estimators\": [30,50,70,100,200],\n",
    "              \"learning_rate\":[0.1,0.3,0.5,0.7,1.0]\n",
    "             }\n",
    "tree2 = DecisionTreeClassifier()\n",
    "ABC = AdaBoostClassifier(base_estimator=tree2,algorithm=\"SAMME\")\n",
    "folds= 3\n",
    "grid_search_tree_boost2 = GridSearchCV(ABC, \n",
    "                               cv = folds,\n",
    "                               param_grid=param_grid, \n",
    "                               scoring = 'roc_auc', \n",
    "                               return_train_score=True,                         \n",
    "                               verbose = 1)\n",
    "\n"
   ]
  },
  {
   "cell_type": "code",
   "execution_count": 97,
   "id": "b189658c",
   "metadata": {},
   "outputs": [
    {
     "name": "stdout",
     "output_type": "stream",
     "text": [
      "Fitting 3 folds for each of 125 candidates, totalling 375 fits\n"
     ]
    },
    {
     "data": {
      "text/plain": [
       "GridSearchCV(cv=3,\n",
       "             estimator=AdaBoostClassifier(algorithm='SAMME',\n",
       "                                          base_estimator=DecisionTreeClassifier()),\n",
       "             param_grid={'base_estimator__max_depth': [1, 2, 3, 4, 5],\n",
       "                         'learning_rate': [0.1, 0.3, 0.5, 0.7, 1.0],\n",
       "                         'n_estimators': [30, 50, 70, 100, 200]},\n",
       "             return_train_score=True, scoring='roc_auc', verbose=1)"
      ]
     },
     "execution_count": 97,
     "metadata": {},
     "output_type": "execute_result"
    }
   ],
   "source": [
    "grid_search_tree_boost2.fit(X_train,y_train)"
   ]
  },
  {
   "cell_type": "code",
   "execution_count": 98,
   "id": "6efea306",
   "metadata": {},
   "outputs": [
    {
     "name": "stdout",
     "output_type": "stream",
     "text": [
      "{'base_estimator__max_depth': 3, 'learning_rate': 0.1, 'n_estimators': 50}\n"
     ]
    }
   ],
   "source": [
    "print(grid_search_tree_boost2.best_params_)"
   ]
  },
  {
   "cell_type": "code",
   "execution_count": 99,
   "id": "5bdb1b23",
   "metadata": {},
   "outputs": [
    {
     "data": {
      "text/plain": [
       "AdaBoostClassifier(algorithm='SAMME',\n",
       "                   base_estimator=DecisionTreeClassifier(max_depth=3),\n",
       "                   learning_rate=0.1)"
      ]
     },
     "execution_count": 99,
     "metadata": {},
     "output_type": "execute_result"
    }
   ],
   "source": [
    "tree2 = DecisionTreeClassifier(max_depth=3)\n",
    "ABC_best = AdaBoostClassifier(base_estimator=tree2,algorithm='SAMME',learning_rate=0.1,n_estimators=50)\n",
    "ABC_best.fit(X_train,y_train)\n"
   ]
  },
  {
   "cell_type": "code",
   "execution_count": 100,
   "id": "2b053b4b",
   "metadata": {},
   "outputs": [
    {
     "name": "stdout",
     "output_type": "stream",
     "text": [
      "0.9174825174825175\n"
     ]
    }
   ],
   "source": [
    "print(ABC_best.score(X_test,y_test))"
   ]
  },
  {
   "cell_type": "code",
   "execution_count": 101,
   "id": "693df6a4",
   "metadata": {},
   "outputs": [
    {
     "name": "stdout",
     "output_type": "stream",
     "text": [
      "0.9129651860744298\n"
     ]
    }
   ],
   "source": [
    "print(ABC_best.score(X_train,y_train))"
   ]
  },
  {
   "cell_type": "code",
   "execution_count": 102,
   "id": "3baddf66",
   "metadata": {},
   "outputs": [
    {
     "data": {
      "image/png": "[encoded data removed]",
      "text/plain": [
       "<Figure size 640x480 with 1 Axes>"
      ]
     },
     "metadata": {},
     "output_type": "display_data"
    }
   ],
   "source": [
    "from sklearn import metrics\n",
    "y_pred_prob_abc = ABC_best.predict_proba(X_test)[:,1]\n",
    "fpr, tpr, _ = metrics.roc_curve(y_test,  y_pred_prob_abc)\n",
    "plt.plot(fpr,tpr)\n",
    "plt.ylabel('True Positive Rate')\n",
    "plt.xlabel('False Positive Rate')\n",
    "plt.show()"
   ]
  },
  {
   "cell_type": "code",
   "execution_count": 103,
   "id": "b3d03ea9",
   "metadata": {},
   "outputs": [
    {
     "data": {
      "text/plain": [
       "0.9659255939040788"
      ]
     },
     "execution_count": 103,
     "metadata": {},
     "output_type": "execute_result"
    }
   ],
   "source": [
    "auc = metrics.roc_auc_score(y_test, y_pred_prob_abc)\n",
    "auc"
   ]
  },
  {
   "cell_type": "code",
   "execution_count": 104,
   "id": "d7b9fbe6",
   "metadata": {},
   "outputs": [],
   "source": [
    "y_pred_abc=ABC_best.predict(X_test)"
   ]
  },
  {
   "cell_type": "code",
   "execution_count": 105,
   "id": "73ae4ccc",
   "metadata": {},
   "outputs": [
    {
     "name": "stdout",
     "output_type": "stream",
     "text": [
      "              precision    recall  f1-score   support\n",
      "\n",
      "           0       0.88      0.86      0.87       230\n",
      "           1       0.93      0.95      0.94       485\n",
      "\n",
      "    accuracy                           0.92       715\n",
      "   macro avg       0.91      0.90      0.90       715\n",
      "weighted avg       0.92      0.92      0.92       715\n",
      "\n"
     ]
    }
   ],
   "source": [
    "print(classification_report(y_test,y_pred_abc))"
   ]
  },
  {
   "cell_type": "markdown",
   "id": "999a8bce",
   "metadata": {},
   "source": [
    "### Oversampling and building the model"
   ]
  },
  {
   "cell_type": "code",
   "execution_count": 106,
   "id": "07483ee6",
   "metadata": {},
   "outputs": [],
   "source": [
    "##Standardizing the data before oversampling\n",
    "X_train_stdt = (X_train-X_train.mean())/X_train.std()"
   ]
  },
  {
   "cell_type": "code",
   "execution_count": 107,
   "id": "7adee68f",
   "metadata": {},
   "outputs": [],
   "source": [
    "X_test_stdt = (X_test-X_train.mean())/X_train.std()"
   ]
  },
  {
   "cell_type": "code",
   "execution_count": 109,
   "id": "e7b35469",
   "metadata": {},
   "outputs": [
    {
     "name": "stdout",
     "output_type": "stream",
     "text": [
      "Collecting imblearn\n",
      "  Using cached imblearn-0.0-py2.py3-none-any.whl (1.9 kB)\n",
      "Collecting imbalanced-learn\n",
      "  Downloading imbalanced_learn-0.10.1-py3-none-any.whl (226 kB)\n",
      "     -------------------------------------- 226.0/226.0 kB 2.0 MB/s eta 0:00:00\n",
      "Requirement already satisfied: threadpoolctl>=2.0.0 in c:\\users\\nedun\\anaconda3\\lib\\site-packages (from imbalanced-learn->imblearn) (2.2.0)\n",
      "Requirement already satisfied: numpy>=1.17.3 in c:\\users\\nedun\\anaconda3\\lib\\site-packages (from imbalanced-learn->imblearn) (1.21.5)\n",
      "Requirement already satisfied: scipy>=1.3.2 in c:\\users\\nedun\\anaconda3\\lib\\site-packages (from imbalanced-learn->imblearn) (1.9.1)\n",
      "Requirement already satisfied: scikit-learn>=1.0.2 in c:\\users\\nedun\\anaconda3\\lib\\site-packages (from imbalanced-learn->imblearn) (1.0.2)\n",
      "Collecting joblib>=1.1.1\n",
      "  Downloading joblib-1.2.0-py3-none-any.whl (297 kB)\n",
      "     ------------------------------------ 298.0/298.0 kB 512.0 kB/s eta 0:00:00\n",
      "Installing collected packages: joblib, imbalanced-learn, imblearn\n",
      "  Attempting uninstall: joblib\n",
      "    Found existing installation: joblib 1.1.0\n",
      "    Uninstalling joblib-1.1.0:\n",
      "      Successfully uninstalled joblib-1.1.0\n",
      "Successfully installed imbalanced-learn-0.10.1 imblearn-0.0 joblib-1.2.0\n"
     ]
    }
   ],
   "source": [
    "#using the smote technique to balance the data between two classes.This will improve the model.\n",
    "!pip install imblearn\n",
    "from imblearn.over_sampling import SMOTE\n",
    "sm = SMOTE(random_state=42)\n",
    "X_train_res, y_train_res = sm.fit_resample(X_train_stdt, y_train.ravel())"
   ]
  },
  {
   "cell_type": "code",
   "execution_count": 110,
   "id": "ee1da329",
   "metadata": {},
   "outputs": [
    {
     "name": "stdout",
     "output_type": "stream",
     "text": [
      "After OverSampling, the shape of train_X: (2262, 40)\n",
      "After OverSampling, the shape of train_y: (2262,) \n",
      "\n",
      "After OverSampling, counts of label '1': 1131\n",
      "After OverSampling, counts of label '0': 1131\n"
     ]
    }
   ],
   "source": [
    "print('After OverSampling, the shape of train_X: {}'.format(X_train_res.shape))\n",
    "print('After OverSampling, the shape of train_y: {} \\n'.format(y_train_res.shape))\n",
    "  \n",
    "print(\"After OverSampling, counts of label '1': {}\".format(sum(y_train_res == 1)))\n",
    "print(\"After OverSampling, counts of label '0': {}\".format(sum(y_train_res == 0)))"
   ]
  },
  {
   "cell_type": "markdown",
   "id": "6f35b540",
   "metadata": {},
   "source": [
    "### Bagging after oversampling"
   ]
  },
  {
   "cell_type": "code",
   "execution_count": 111,
   "id": "ae9e33e1",
   "metadata": {},
   "outputs": [],
   "source": [
    "dtree_base_os = DecisionTreeClassifier()\n",
    "bagging_os = BaggingClassifier(base_estimator=dtree_base_os,bootstrap=True)\n",
    "param_grid= {\"base_estimator__max_depth\" : [1,2,3,4,5],\n",
    "            \"n_estimators\" : [10,30,40,50],\n",
    "            \"max_samples\" : [0.05,0.1,0.2,0.5],\n",
    "            \"max_features\" : [0.2,0.3,0.5]}\n",
    "folds= 3\n",
    "grid_search_tree_os = GridSearchCV(bagging_os, \n",
    "                               cv = folds,\n",
    "                               param_grid=param_grid, \n",
    "                               scoring = 'roc_auc', \n",
    "                               return_train_score=True,                         \n",
    "                               verbose = 1)"
   ]
  },
  {
   "cell_type": "code",
   "execution_count": 112,
   "id": "44ec048d",
   "metadata": {},
   "outputs": [
    {
     "name": "stdout",
     "output_type": "stream",
     "text": [
      "Fitting 3 folds for each of 240 candidates, totalling 720 fits\n"
     ]
    },
    {
     "data": {
      "text/plain": [
       "GridSearchCV(cv=3,\n",
       "             estimator=BaggingClassifier(base_estimator=DecisionTreeClassifier()),\n",
       "             param_grid={'base_estimator__max_depth': [1, 2, 3, 4, 5],\n",
       "                         'max_features': [0.2, 0.3, 0.5],\n",
       "                         'max_samples': [0.05, 0.1, 0.2, 0.5],\n",
       "                         'n_estimators': [10, 30, 40, 50]},\n",
       "             return_train_score=True, scoring='roc_auc', verbose=1)"
      ]
     },
     "execution_count": 112,
     "metadata": {},
     "output_type": "execute_result"
    }
   ],
   "source": [
    "grid_search_tree_os.fit(X_train_res,y_train_res)"
   ]
  },
  {
   "cell_type": "code",
   "execution_count": 113,
   "id": "6e933255",
   "metadata": {},
   "outputs": [
    {
     "name": "stdout",
     "output_type": "stream",
     "text": [
      "{'base_estimator__max_depth': 4, 'max_features': 0.5, 'max_samples': 0.5, 'n_estimators': 40}\n"
     ]
    }
   ],
   "source": [
    "print(grid_search_tree_os.best_params_)"
   ]
  },
  {
   "cell_type": "code",
   "execution_count": 114,
   "id": "fb84d80f",
   "metadata": {},
   "outputs": [],
   "source": [
    "dtree_base_os = DecisionTreeClassifier(max_depth=5)\n",
    "bagging_os = BaggingClassifier(base_estimator=dtree_base_os,max_features=0.5,max_samples=0.5,n_estimators=50)"
   ]
  },
  {
   "cell_type": "code",
   "execution_count": 115,
   "id": "392d9756",
   "metadata": {},
   "outputs": [
    {
     "data": {
      "text/plain": [
       "BaggingClassifier(base_estimator=DecisionTreeClassifier(max_depth=5),\n",
       "                  max_features=0.5, max_samples=0.5, n_estimators=50)"
      ]
     },
     "execution_count": 115,
     "metadata": {},
     "output_type": "execute_result"
    }
   ],
   "source": [
    "bagging_os.fit(X_train_res,y_train_res)"
   ]
  },
  {
   "cell_type": "code",
   "execution_count": 116,
   "id": "711799af",
   "metadata": {},
   "outputs": [],
   "source": [
    "y_pred_os = bagging_os.predict(X_test_stdt)"
   ]
  },
  {
   "cell_type": "code",
   "execution_count": 117,
   "id": "ee015a11",
   "metadata": {},
   "outputs": [
    {
     "name": "stdout",
     "output_type": "stream",
     "text": [
      "0.9006993006993007\n"
     ]
    }
   ],
   "source": [
    "print(bagging_os.score(X_test_stdt,y_test))"
   ]
  },
  {
   "cell_type": "code",
   "execution_count": 118,
   "id": "516f8d21",
   "metadata": {},
   "outputs": [
    {
     "name": "stdout",
     "output_type": "stream",
     "text": [
      "0.9279398762157383\n"
     ]
    }
   ],
   "source": [
    "print(bagging_os.score(X_train_res,y_train_res))"
   ]
  },
  {
   "cell_type": "code",
   "execution_count": 119,
   "id": "fc6ae28f",
   "metadata": {},
   "outputs": [
    {
     "data": {
      "image/png": "[encoded data removed]",
      "text/plain": [
       "<Figure size 640x480 with 1 Axes>"
      ]
     },
     "metadata": {},
     "output_type": "display_data"
    }
   ],
   "source": [
    "from sklearn import metrics\n",
    "y_pred_prob_os = bagging_os.predict_proba(X_test_stdt)[:,1]\n",
    "fpr, tpr, _ = metrics.roc_curve(y_test,  y_pred_prob_os)\n",
    "plt.plot(fpr,tpr)\n",
    "plt.ylabel('True Positive Rate')\n",
    "plt.xlabel('False Positive Rate')\n",
    "plt.show()"
   ]
  },
  {
   "cell_type": "code",
   "execution_count": 120,
   "id": "6a7c1421",
   "metadata": {},
   "outputs": [
    {
     "data": {
      "text/plain": [
       "0.9475123263110712"
      ]
     },
     "execution_count": 120,
     "metadata": {},
     "output_type": "execute_result"
    }
   ],
   "source": [
    "auc = metrics.roc_auc_score(y_test, y_pred_prob_os)\n",
    "auc"
   ]
  },
  {
   "cell_type": "code",
   "execution_count": 121,
   "id": "5f6487be",
   "metadata": {},
   "outputs": [
    {
     "name": "stdout",
     "output_type": "stream",
     "text": [
      "              precision    recall  f1-score   support\n",
      "\n",
      "           0       0.86      0.82      0.84       230\n",
      "           1       0.92      0.94      0.93       485\n",
      "\n",
      "    accuracy                           0.90       715\n",
      "   macro avg       0.89      0.88      0.88       715\n",
      "weighted avg       0.90      0.90      0.90       715\n",
      "\n"
     ]
    }
   ],
   "source": [
    "from sklearn.metrics import classification_report\n",
    "print(classification_report(y_test,y_pred_os))"
   ]
  },
  {
   "cell_type": "markdown",
   "id": "e68f7ad2",
   "metadata": {},
   "source": [
    "The auc-oc score has slightly increased when compared to the model before oversampling."
   ]
  },
  {
   "cell_type": "markdown",
   "id": "d5cf4112",
   "metadata": {},
   "source": [
    "### Boosting after oversampling"
   ]
  },
  {
   "cell_type": "code",
   "execution_count": 122,
   "id": "865fd3cb",
   "metadata": {},
   "outputs": [
    {
     "name": "stdout",
     "output_type": "stream",
     "text": [
      "Collecting xgboost\n",
      "  Downloading xgboost-1.7.3-py3-none-win_amd64.whl (89.1 MB)\n",
      "     ---------------------------------------- 89.1/89.1 MB 7.7 MB/s eta 0:00:00\n",
      "Requirement already satisfied: numpy in c:\\users\\nedun\\anaconda3\\lib\\site-packages (from xgboost) (1.21.5)\n",
      "Requirement already satisfied: scipy in c:\\users\\nedun\\anaconda3\\lib\\site-packages (from xgboost) (1.9.1)\n",
      "Installing collected packages: xgboost\n",
      "Successfully installed xgboost-1.7.3\n"
     ]
    }
   ],
   "source": [
    "!pip install xgboost"
   ]
  },
  {
   "cell_type": "code",
   "execution_count": 123,
   "id": "845bf008",
   "metadata": {},
   "outputs": [],
   "source": [
    "from xgboost import XGBClassifier\n",
    "folds = 3\n",
    "\n",
    "param_grid = {'learning_rate': [0.2,0.5, 0.6], \n",
    "             'subsample': [0.3,0.5, 0.6, 0.9],\n",
    "             'n_estimators':[50,100,150,200,250,300]}          \n",
    "\n",
    "\n",
    "xgb_model = XGBClassifier(max_depth=2)\n",
    "\n",
    "model_cv = GridSearchCV(estimator = xgb_model, \n",
    "                        param_grid = param_grid, \n",
    "                        scoring= 'roc_auc', \n",
    "                        cv = folds, \n",
    "                        verbose = 1,\n",
    "                        return_train_score=True)      \n",
    "\n"
   ]
  },
  {
   "cell_type": "code",
   "execution_count": 124,
   "id": "b0843f4a",
   "metadata": {},
   "outputs": [
    {
     "name": "stdout",
     "output_type": "stream",
     "text": [
      "Fitting 3 folds for each of 72 candidates, totalling 216 fits\n"
     ]
    },
    {
     "data": {
      "text/plain": [
       "GridSearchCV(cv=3,\n",
       "             estimator=XGBClassifier(base_score=None, booster=None,\n",
       "                                     callbacks=None, colsample_bylevel=None,\n",
       "                                     colsample_bynode=None,\n",
       "                                     colsample_bytree=None,\n",
       "                                     early_stopping_rounds=None,\n",
       "                                     enable_categorical=False, eval_metric=None,\n",
       "                                     feature_types=None, gamma=None,\n",
       "                                     gpu_id=None, grow_policy=None,\n",
       "                                     importance_type=None,\n",
       "                                     interaction_constraints=None,\n",
       "                                     learning_rate=None,...\n",
       "                                     max_delta_step=None, max_depth=2,\n",
       "                                     max_leaves=None, min_child_weight=None,\n",
       "                                     missing=nan, monotone_constraints=None,\n",
       "                                     n_estimators=100, n_jobs=None,\n",
       "                                     num_parallel_tree=None, predictor=None,\n",
       "                                     random_state=None, ...),\n",
       "             param_grid={'learning_rate': [0.2, 0.5, 0.6],\n",
       "                         'n_estimators': [50, 100, 150, 200, 250, 300],\n",
       "                         'subsample': [0.3, 0.5, 0.6, 0.9]},\n",
       "             return_train_score=True, scoring='roc_auc', verbose=1)"
      ]
     },
     "execution_count": 124,
     "metadata": {},
     "output_type": "execute_result"
    }
   ],
   "source": [
    "model_cv.fit(X_train_res,y_train_res)"
   ]
  },
  {
   "cell_type": "code",
   "execution_count": 125,
   "id": "b69d3c4c",
   "metadata": {},
   "outputs": [
    {
     "name": "stdout",
     "output_type": "stream",
     "text": [
      "{'learning_rate': 0.2, 'n_estimators': 100, 'subsample': 0.3}\n"
     ]
    }
   ],
   "source": [
    "print(model_cv.best_params_)"
   ]
  },
  {
   "cell_type": "code",
   "execution_count": 126,
   "id": "494a2f16",
   "metadata": {},
   "outputs": [
    {
     "data": {
      "text/plain": [
       "XGBClassifier(base_score=None, booster=None, callbacks=None,\n",
       "              colsample_bylevel=None, colsample_bynode=None,\n",
       "              colsample_bytree=None, early_stopping_rounds=None,\n",
       "              enable_categorical=False, eval_metric=None, feature_types=None,\n",
       "              gamma=None, gpu_id=None, grow_policy=None, importance_type=None,\n",
       "              interaction_constraints=None, learning_rate=0.2, max_bin=None,\n",
       "              max_cat_threshold=None, max_cat_to_onehot=None,\n",
       "              max_delta_step=None, max_depth=2, max_leaves=None,\n",
       "              min_child_weight=None, missing=nan, monotone_constraints=None,\n",
       "              n_estimators=100, n_jobs=None, num_parallel_tree=None,\n",
       "              predictor=None, random_state=None, ...)"
      ]
     },
     "execution_count": 126,
     "metadata": {},
     "output_type": "execute_result"
    }
   ],
   "source": [
    "#3 building xgboost with the best hyperparameters\n",
    "model_xgb = XGBClassifier(learning_rate=0.2,n_estimators=100,subsample=0.3,max_depth=2)\n",
    "model_xgb.fit(X_train_res,y_train_res)"
   ]
  },
  {
   "cell_type": "code",
   "execution_count": 127,
   "id": "ebb11252",
   "metadata": {},
   "outputs": [],
   "source": [
    "y_pred_xgb = model_xgb.predict(X_test_stdt)"
   ]
  },
  {
   "cell_type": "code",
   "execution_count": 128,
   "id": "42826ddc",
   "metadata": {},
   "outputs": [
    {
     "name": "stdout",
     "output_type": "stream",
     "text": [
      "0.9336870026525199\n"
     ]
    }
   ],
   "source": [
    "print(model_xgb.score(X_train_res,y_train_res))"
   ]
  },
  {
   "cell_type": "code",
   "execution_count": 129,
   "id": "d2f0a6d4",
   "metadata": {},
   "outputs": [
    {
     "name": "stdout",
     "output_type": "stream",
     "text": [
      "0.9188811188811189\n"
     ]
    }
   ],
   "source": [
    "print(model_xgb.score(X_test_stdt,y_test))"
   ]
  },
  {
   "cell_type": "code",
   "execution_count": 130,
   "id": "22c5f445",
   "metadata": {},
   "outputs": [
    {
     "data": {
      "image/png": "[encoded data removed]",
      "text/plain": [
       "<Figure size 640x480 with 1 Axes>"
      ]
     },
     "metadata": {},
     "output_type": "display_data"
    }
   ],
   "source": [
    "y_pred_prob_xgb = model_xgb.predict_proba(X_test_stdt)[:,1]\n",
    "fpr, tpr, _ = metrics.roc_curve(y_test,  y_pred_prob_xgb)\n",
    "plt.plot(fpr,tpr)\n",
    "plt.ylabel('True Positive Rate')\n",
    "plt.xlabel('False Positive Rate')\n",
    "plt.show()"
   ]
  },
  {
   "cell_type": "code",
   "execution_count": 131,
   "id": "e8a42f51",
   "metadata": {},
   "outputs": [
    {
     "data": {
      "text/plain": [
       "0.9650291349170775"
      ]
     },
     "execution_count": 131,
     "metadata": {},
     "output_type": "execute_result"
    }
   ],
   "source": [
    "auc = metrics.roc_auc_score(y_test, y_pred_prob_xgb)\n",
    "auc"
   ]
  },
  {
   "cell_type": "markdown",
   "id": "bb88b834",
   "metadata": {},
   "source": [
    "__The auc is 0.965 which is quiet a good score.__"
   ]
  },
  {
   "cell_type": "code",
   "execution_count": 132,
   "id": "2a836677",
   "metadata": {},
   "outputs": [
    {
     "name": "stdout",
     "output_type": "stream",
     "text": [
      "              precision    recall  f1-score   support\n",
      "\n",
      "           0       0.87      0.87      0.87       230\n",
      "           1       0.94      0.94      0.94       485\n",
      "\n",
      "    accuracy                           0.92       715\n",
      "   macro avg       0.91      0.91      0.91       715\n",
      "weighted avg       0.92      0.92      0.92       715\n",
      "\n"
     ]
    }
   ],
   "source": [
    "print(classification_report(y_test,y_pred_xgb))"
   ]
  },
  {
   "cell_type": "markdown",
   "id": "f84427c4",
   "metadata": {},
   "source": [
    "#### Comments on model\n",
    "\n",
    "The boosting algorithm has performed comparitively well than the bagging algorithm. The auc score is 0.965 for the boosting algorithm and F1 score is around 0.92. We can use the Gradient boosting algorithm as accuracy, f1 and auc are comparitively good."
   ]
  },
  {
   "cell_type": "markdown",
   "id": "a8992933",
   "metadata": {},
   "source": [
    "### Insights and recommendations\n",
    "\n",
    "1. The quarterly rating is highly correlated to the target variable(-0.52). This means, less rating high chance that the driver might churn.\n",
    "2. Male drivers have churned more than female drivers.\n",
    "3. The median income for the drivers who churned is 55k and the median income for the drivers who have not churned is slightly higher (67k).\n",
    "4. The drivers whose monthly income or rating has not been increased have churned more than the drivers whose income or rating has been increased.\n",
    "5. As the joining designation  increased from 1 to 5 , the ratio between churn and not churn has decreased.\n",
    "6. In 2019, there were more drivers who left the company when comapred to the other years.\n",
    "\n",
    "Recommendations:\n",
    "\n",
    "1. Ola can start working more on appreciating the employee's hard work and recognising the good work .This can be done by introducing some awards or rewards to the employee who has been working hard/who has dropped the customer on time.\n",
    "2. Ola should give timely promotions and increment rewards.\n",
    "3. Ola can offer some additional benefits to the employees."
   ]
  },
  {
   "cell_type": "code",
   "execution_count": null,
   "id": "b2ecbc60",
   "metadata": {},
   "outputs": [],
   "source": []
  }
 ],
 "metadata": {
  "kernelspec": {
   "display_name": "Python 3 (ipykernel)",
   "language": "python",
   "name": "python3"
  },
  "language_info": {
   "codemirror_mode": {
    "name": "ipython",
    "version": 3
   },
   "file_extension": ".py",
   "mimetype": "text/x-python",
   "name": "python",
   "nbconvert_exporter": "python",
   "pygments_lexer": "ipython3",
   "version": "3.9.13"
  }
 },
 "nbformat": 4,
 "nbformat_minor": 5
}
